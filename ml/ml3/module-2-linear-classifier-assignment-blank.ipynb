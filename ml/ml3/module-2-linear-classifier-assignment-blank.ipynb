{
 "cells": [
  {
   "cell_type": "markdown",
   "metadata": {},
   "source": [
    "# Predicting sentiment from product reviews\n",
    "\n",
    "\n",
    "The goal of this first notebook is to explore logistic regression and feature engineering with existing GraphLab functions.\n",
    "\n",
    "In this notebook you will use product review data from Amazon.com to predict whether the sentiments about a product (from its reviews) are positive or negative.\n",
    "\n",
    "* Use SFrames to do some feature engineering\n",
    "* Train a logistic regression model to predict the sentiment of product reviews.\n",
    "* Inspect the weights (coefficients) of a trained logistic regression model.\n",
    "* Make a prediction (both class and probability) of sentiment for a new product review.\n",
    "* Given the logistic regression weights, predictors and ground truth labels, write a function to compute the **accuracy** of the model.\n",
    "* Inspect the coefficients of the logistic regression model and interpret their meanings.\n",
    "* Compare multiple logistic regression models.\n",
    "\n",
    "Let's get started!\n",
    "    \n",
    "## Fire up GraphLab Create"
   ]
  },
  {
   "cell_type": "markdown",
   "metadata": {},
   "source": [
    "Make sure you have the latest version of GraphLab Create."
   ]
  },
  {
   "cell_type": "code",
   "execution_count": 1,
   "metadata": {
    "collapsed": false
   },
   "outputs": [
    {
     "name": "stderr",
     "output_type": "stream",
     "text": [
      "[WARNING] Unable to write current GraphLab Create license to /Users/shraghavan/.graphlab/config. Ensure that this user account                         has write permission to /Users/shraghavan/.graphlab/config to save the license for offline use.\n",
      "[INFO] GraphLab Create v1.8.3 started. Logging: /tmp/graphlab_server_1461542466.log\n",
      "[WARNING] Unable to create session in specified location: '/Users/shraghavan/.graphlab/artifacts'. Using: '/var/tmp/graphlab-shraghavan/98570/tmp_session_d06e3796-b797-4fa7-96d4-06207e9ff0cb'\n"
     ]
    }
   ],
   "source": [
    "from __future__ import division\n",
    "import graphlab\n",
    "import math\n",
    "import string"
   ]
  },
  {
   "cell_type": "markdown",
   "metadata": {},
   "source": [
    "# Data preperation\n",
    "\n",
    "We will use a dataset consisting of baby product reviews on Amazon.com."
   ]
  },
  {
   "cell_type": "code",
   "execution_count": 2,
   "metadata": {
    "collapsed": false
   },
   "outputs": [],
   "source": [
    "products = graphlab.SFrame('amazon_baby.gl/')"
   ]
  },
  {
   "cell_type": "markdown",
   "metadata": {},
   "source": [
    "Now, let us see a preview of what the dataset looks like."
   ]
  },
  {
   "cell_type": "code",
   "execution_count": 3,
   "metadata": {
    "collapsed": false
   },
   "outputs": [
    {
     "data": {
      "text/html": [
       "<div style=\"max-height:1000px;max-width:1500px;overflow:auto;\"><table frame=\"box\" rules=\"cols\">\n",
       "    <tr>\n",
       "        <th style=\"padding-left: 1em; padding-right: 1em; text-align: center\">name</th>\n",
       "        <th style=\"padding-left: 1em; padding-right: 1em; text-align: center\">review</th>\n",
       "        <th style=\"padding-left: 1em; padding-right: 1em; text-align: center\">rating</th>\n",
       "    </tr>\n",
       "    <tr>\n",
       "        <td style=\"padding-left: 1em; padding-right: 1em; text-align: center; vertical-align: top\">Planetwise Flannel Wipes</td>\n",
       "        <td style=\"padding-left: 1em; padding-right: 1em; text-align: center; vertical-align: top\">These flannel wipes are<br>OK, but in my opinion ...</td>\n",
       "        <td style=\"padding-left: 1em; padding-right: 1em; text-align: center; vertical-align: top\">3.0</td>\n",
       "    </tr>\n",
       "    <tr>\n",
       "        <td style=\"padding-left: 1em; padding-right: 1em; text-align: center; vertical-align: top\">Planetwise Wipe Pouch</td>\n",
       "        <td style=\"padding-left: 1em; padding-right: 1em; text-align: center; vertical-align: top\">it came early and was not<br>disappointed. i love ...</td>\n",
       "        <td style=\"padding-left: 1em; padding-right: 1em; text-align: center; vertical-align: top\">5.0</td>\n",
       "    </tr>\n",
       "    <tr>\n",
       "        <td style=\"padding-left: 1em; padding-right: 1em; text-align: center; vertical-align: top\">Annas Dream Full Quilt<br>with 2 Shams ...</td>\n",
       "        <td style=\"padding-left: 1em; padding-right: 1em; text-align: center; vertical-align: top\">Very soft and comfortable<br>and warmer than it ...</td>\n",
       "        <td style=\"padding-left: 1em; padding-right: 1em; text-align: center; vertical-align: top\">5.0</td>\n",
       "    </tr>\n",
       "    <tr>\n",
       "        <td style=\"padding-left: 1em; padding-right: 1em; text-align: center; vertical-align: top\">Stop Pacifier Sucking<br>without tears with ...</td>\n",
       "        <td style=\"padding-left: 1em; padding-right: 1em; text-align: center; vertical-align: top\">This is a product well<br>worth the purchase.  I ...</td>\n",
       "        <td style=\"padding-left: 1em; padding-right: 1em; text-align: center; vertical-align: top\">5.0</td>\n",
       "    </tr>\n",
       "    <tr>\n",
       "        <td style=\"padding-left: 1em; padding-right: 1em; text-align: center; vertical-align: top\">Stop Pacifier Sucking<br>without tears with ...</td>\n",
       "        <td style=\"padding-left: 1em; padding-right: 1em; text-align: center; vertical-align: top\">All of my kids have cried<br>non-stop when I tried to ...</td>\n",
       "        <td style=\"padding-left: 1em; padding-right: 1em; text-align: center; vertical-align: top\">5.0</td>\n",
       "    </tr>\n",
       "    <tr>\n",
       "        <td style=\"padding-left: 1em; padding-right: 1em; text-align: center; vertical-align: top\">Stop Pacifier Sucking<br>without tears with ...</td>\n",
       "        <td style=\"padding-left: 1em; padding-right: 1em; text-align: center; vertical-align: top\">When the Binky Fairy came<br>to our house, we didn't ...</td>\n",
       "        <td style=\"padding-left: 1em; padding-right: 1em; text-align: center; vertical-align: top\">5.0</td>\n",
       "    </tr>\n",
       "    <tr>\n",
       "        <td style=\"padding-left: 1em; padding-right: 1em; text-align: center; vertical-align: top\">A Tale of Baby's Days<br>with Peter Rabbit ...</td>\n",
       "        <td style=\"padding-left: 1em; padding-right: 1em; text-align: center; vertical-align: top\">Lovely book, it's bound<br>tightly so you may no ...</td>\n",
       "        <td style=\"padding-left: 1em; padding-right: 1em; text-align: center; vertical-align: top\">4.0</td>\n",
       "    </tr>\n",
       "    <tr>\n",
       "        <td style=\"padding-left: 1em; padding-right: 1em; text-align: center; vertical-align: top\">Baby Tracker&amp;reg; - Daily<br>Childcare Journal, ...</td>\n",
       "        <td style=\"padding-left: 1em; padding-right: 1em; text-align: center; vertical-align: top\">Perfect for new parents.<br>We were able to keep ...</td>\n",
       "        <td style=\"padding-left: 1em; padding-right: 1em; text-align: center; vertical-align: top\">5.0</td>\n",
       "    </tr>\n",
       "    <tr>\n",
       "        <td style=\"padding-left: 1em; padding-right: 1em; text-align: center; vertical-align: top\">Baby Tracker&amp;reg; - Daily<br>Childcare Journal, ...</td>\n",
       "        <td style=\"padding-left: 1em; padding-right: 1em; text-align: center; vertical-align: top\">A friend of mine pinned<br>this product on Pinte ...</td>\n",
       "        <td style=\"padding-left: 1em; padding-right: 1em; text-align: center; vertical-align: top\">5.0</td>\n",
       "    </tr>\n",
       "    <tr>\n",
       "        <td style=\"padding-left: 1em; padding-right: 1em; text-align: center; vertical-align: top\">Baby Tracker&amp;reg; - Daily<br>Childcare Journal, ...</td>\n",
       "        <td style=\"padding-left: 1em; padding-right: 1em; text-align: center; vertical-align: top\">This has been an easy way<br>for my nanny to record ...</td>\n",
       "        <td style=\"padding-left: 1em; padding-right: 1em; text-align: center; vertical-align: top\">4.0</td>\n",
       "    </tr>\n",
       "</table>\n",
       "[183531 rows x 3 columns]<br/>Note: Only the head of the SFrame is printed.<br/>You can use print_rows(num_rows=m, num_columns=n) to print more rows and columns.\n",
       "</div>"
      ],
      "text/plain": [
       "Columns:\n",
       "\tname\tstr\n",
       "\treview\tstr\n",
       "\trating\tfloat\n",
       "\n",
       "Rows: 183531\n",
       "\n",
       "Data:\n",
       "+-------------------------------+-------------------------------+--------+\n",
       "|              name             |             review            | rating |\n",
       "+-------------------------------+-------------------------------+--------+\n",
       "|    Planetwise Flannel Wipes   | These flannel wipes are OK... |  3.0   |\n",
       "|     Planetwise Wipe Pouch     | it came early and was not ... |  5.0   |\n",
       "| Annas Dream Full Quilt wit... | Very soft and comfortable ... |  5.0   |\n",
       "| Stop Pacifier Sucking with... | This is a product well wor... |  5.0   |\n",
       "| Stop Pacifier Sucking with... | All of my kids have cried ... |  5.0   |\n",
       "| Stop Pacifier Sucking with... | When the Binky Fairy came ... |  5.0   |\n",
       "| A Tale of Baby's Days with... | Lovely book, it's bound ti... |  4.0   |\n",
       "| Baby Tracker&reg; - Daily ... | Perfect for new parents. W... |  5.0   |\n",
       "| Baby Tracker&reg; - Daily ... | A friend of mine pinned th... |  5.0   |\n",
       "| Baby Tracker&reg; - Daily ... | This has been an easy way ... |  4.0   |\n",
       "+-------------------------------+-------------------------------+--------+\n",
       "[183531 rows x 3 columns]\n",
       "Note: Only the head of the SFrame is printed.\n",
       "You can use print_rows(num_rows=m, num_columns=n) to print more rows and columns."
      ]
     },
     "execution_count": 3,
     "metadata": {},
     "output_type": "execute_result"
    }
   ],
   "source": [
    "products"
   ]
  },
  {
   "cell_type": "markdown",
   "metadata": {},
   "source": [
    "## Build the word count vector for each review"
   ]
  },
  {
   "cell_type": "markdown",
   "metadata": {},
   "source": [
    "Let us explore a specific example of a baby product.\n"
   ]
  },
  {
   "cell_type": "code",
   "execution_count": 4,
   "metadata": {
    "collapsed": false
   },
   "outputs": [
    {
     "data": {
      "text/plain": [
       "{'name': 'The First Years Massaging Action Teether',\n",
       " 'rating': 5.0,\n",
       " 'review': 'A favorite in our house!'}"
      ]
     },
     "execution_count": 4,
     "metadata": {},
     "output_type": "execute_result"
    }
   ],
   "source": [
    "products[269]"
   ]
  },
  {
   "cell_type": "markdown",
   "metadata": {},
   "source": [
    "Now, we will perform 2 simple data transformations:\n",
    "\n",
    "1. Remove punctuation using [Python's built-in](https://docs.python.org/2/library/string.html) string functionality.\n",
    "2. Transform the reviews into word-counts.\n",
    "\n",
    "**Aside**. In this notebook, we remove all punctuations for the sake of simplicity. A smarter approach to punctuations would preserve phrases such as \"I'd\", \"would've\", \"hadn't\" and so forth. See [this page](https://www.cis.upenn.edu/~treebank/tokenization.html) for an example of smart handling of punctuations."
   ]
  },
  {
   "cell_type": "code",
   "execution_count": 5,
   "metadata": {
    "collapsed": false
   },
   "outputs": [],
   "source": [
    "def remove_punctuation(text):\n",
    "    import string\n",
    "    return text.translate(None, string.punctuation) \n",
    "\n",
    "review_without_puctuation = products['review'].apply(remove_punctuation)\n",
    "products['word_count'] = graphlab.text_analytics.count_words(review_without_puctuation)"
   ]
  },
  {
   "cell_type": "code",
   "execution_count": 6,
   "metadata": {
    "collapsed": false
   },
   "outputs": [
    {
     "data": {
      "text/plain": [
       "dtype: dict\n",
       "Rows: 183531\n",
       "[{'and': 5, 'stink': 1, 'because': 1, 'ordered': 1, 'nicer': 1, 'boyfor': 1, 'replace': 1, 'not': 1, 'softer': 1, 'are': 3, 'have': 2, 'in': 1, 'need': 1, 'rough': 1, 'quality': 1, 'issues': 1, 'seemed': 1, 'use': 1, 'vimse': 1, 'for': 2, 'no': 1, 'get': 1, 'had': 2, 'been': 1, 'to': 2, 'handles': 1, 'someimse': 1, '6': 1, '8': 1, 'worth': 1, 'higher': 1, 'them': 1, 'that': 1, 'countwhich': 1, 'texture': 1, 'keeping': 1, 'but': 1, 'cloth': 2, 'larger': 1, 'blue12': 1, 'they': 1, 'hands': 1, 'fab': 1, 'now': 1, 'flannel': 1, 'a': 2, 'also': 1, 'about': 1, 'usingthirsties': 1, 'ok': 1, 'longer': 1, 'i': 2, 'my': 1, 'just': 1, 'months': 1, 'wipes': 3, 'these': 1, 'while': 1, 'stripping': 1, 'faces': 1, 'wipesocean': 1, 'opinion': 1, 'starting': 1, 'pack': 1}, {'and': 3, 'love': 1, 'it': 3, 'highly': 1, 'osocozy': 1, 'bags': 1, 'holder': 1, 'leak': 1, 'moist': 1, 'does': 1, 'recommend': 1, 'was': 1, 'wipes': 1, 'early': 1, 'not': 2, 'now': 1, 'disappointed': 1, 'wipe': 1, 'keps': 1, 'wise': 1, 'i': 1, 'planet': 1, 'my': 2, 'came': 1}, {'and': 2, 'quilt': 1, 'it': 1, 'comfortable': 1, 'warmer': 1, 'size': 1, 'anyone': 1, 'for': 1, 'looking': 1, 'to': 1, 'recommend': 1, 'type': 1, 'full': 1, 'very': 1, 'perfectlywould': 1, 'than': 1, 'this': 1, 'of': 1, 'bed': 1, 'the': 1, 'soft': 1, 'looksfit': 1}, {'and': 3, 'ingenious': 1, 'love': 2, 'what': 1, 'is': 4, 'it': 1, 'not': 1, 'have': 1, 'in': 2, 'rid': 1, 'little': 1, 'her': 1, 'to': 1, 'positive': 1, 'how': 1, 'much': 1, 'has': 1, 'approach': 2, 'worth': 1, 'back': 1, 'product': 2, 'clever': 1, 'tool': 1, 'chart': 1, 'else': 1, 'most': 1, 'ownership': 1, 'artwork': 1, 'losing': 1, 'binky': 2, 'herself': 1, 'the': 7, 'a': 2, 'purchase': 1, 'about': 1, 'daughter': 1, 'like': 1, 'anything': 1, 'getting': 1, 'this': 4, 'of': 3, 'proud': 1, 'well': 1, 'i': 3, 'so': 1, 'she': 1, 'loves': 1, 'found': 1, 'fairy': 1, 'my': 1}, {'and': 2, 'all': 2, 'help': 1, 'cried': 1, 'is': 3, 'it': 1, 'soo': 1, 'an': 1, 'puppet': 1, 'have': 1, 'pacifier': 2, 'my': 1, 'your': 1, 'ween': 1, 'from': 1, 'for': 2, 'to': 5, 'tried': 1, 'when': 1, 'their': 2, 'going': 1, 'parents': 1, 'loves': 1, 'way': 1, 'you': 2, 'save': 1, 'until': 1, 'nonstop': 1, 'them': 4, 'buy': 1, 'easy': 1, 'headachesthanks': 1, 'of': 1, 'part': 1, 'understand': 1, 'binky': 1, 'with': 1, 'must': 1, 'a': 2, 'great': 1, 'kids': 2, 'off': 1, 'gift': 1, 'i': 2, 'many': 1, 'work': 1, 'thumbuddy': 1, 'will': 1, 'this': 1, 'expecting': 1, 'itthis': 1, 'allow': 1, 'rock': 1, 'found': 1, 'fairy': 1, 'where': 1, 'book': 2}, {'and': 2, 'this': 2, 'her': 1, 'help': 2, 'doll': 1, 'house': 1, 'is': 2, 'product': 1, 'highly': 1, 'have': 1, 'pacifier': 2, 'our': 2, 'any': 2, 'special': 1, 'happens': 1, 'what': 1, 'thumb': 1, 'would': 1, 'item': 1, 'lots': 1, 'explain': 1, 'habit': 1, 'when': 2, 'your': 1, 'to': 6, 'book': 2, 'recommend': 1, 'adorable': 1, 'does': 1, 'we': 2, 'sucking': 1, 'parent': 1, 'stop': 1, 'great': 1, 'it': 1, 'break': 1, 'how': 1, 'job': 1, 'important': 1, 'child': 1, 'telling': 1, 'using': 1, 'binky': 3, 'trying': 1, 'with': 1, 'fairy': 3, 'a': 2, 'loss': 1, 'about': 2, 'made': 1, 'daughter': 1, 'for': 2, 'gift': 1, 'i': 1, 'of': 2, 'favorite': 1, 'their': 1, 'movies': 1, 'prepare': 1, 'cute': 1, 'came': 1, 'the': 6, 'didnt': 1, 'or': 1, 'comes': 1}, {'shop': 1, 'noble': 1, 'is': 1, 'it': 1, 'as': 1, 'spaces': 1, 'at': 1, 'in': 1, 'its': 1, 'before': 1, 'from': 1, 'for': 1, 'barnes': 1, 'currently': 1, 'able': 1, 'aside': 1, 'tightly': 1, 'to': 1, 'add': 1, 'book': 2, 'listed': 1, 'photoscards': 1, 'you': 2, 'lovely': 1, 'be': 1, 'around': 1, 'may': 1, 'designated': 1, 'bound': 1, 'not': 1, 'purchase': 1, 'of': 1, '2995': 1, 'so': 1, 'alot': 1, 'the': 2}, {'and': 2, 'all': 1, 'right': 1, 'had': 1, 'able': 1, 'it': 1, 'because': 1, 'sleep': 1, 'questions': 1, 'perfect': 1, 'feeding': 1, 'her': 1, 'doctor': 1, 'there': 1, 'when': 1, 'two': 1, 'for': 2, 'to': 1, 'parents': 1, 'new': 1, 'easier': 1, 'life': 2, 'schedule': 1, 'track': 1, 'babys': 1, 'diaper': 1, 'half': 1, 'ask': 1, 'change': 1, 'a': 1, 'about': 1, 'made': 1, 'would': 1, 'we': 2, 'of': 2, 'months': 1, 'keep': 1, 'habits': 1, 'were': 1, 'the': 2, 'first': 1}, {'and': 1, 'fantastic': 1, 'help': 1, 'give': 1, 'is': 1, 'it': 2, 'decided': 1, 'are': 1, 'feedings': 1, 'if': 1, 'whirl': 1, 'pinterest': 1, 'pinned': 1, 'to': 1, 'new': 1, 'you': 2, 'friend': 1, 'product': 1, 'parent': 1, 'track': 1, 'mine': 1, 'diaper': 1, 'a': 3, 'on': 1, 'like': 1, 'i': 1, 'of': 2, 'keep': 1, 'will': 1, 'this': 2, 'so': 1, 'the': 1, 'changes': 1}, {'all': 1, 'standarad': 1, 'another': 1, 'when': 2, 'is': 2, 'some': 1, 'preprinted': 1, 'one': 1, 'baby': 2, 'isnt': 1, 'because': 1, 'im': 1, 'at': 1, 'have': 1, 'in': 1, 'home': 1, 'happen': 1, 'your': 1, 'out': 1, 'homethe': 1, 'what': 1, 'would': 1, 'record': 1, 'ordering': 1, 'there': 1, 'informed': 1, 'been': 2, 'to': 4, 'only': 1, '5': 1, 'easy': 1, 'recommend': 1, 'it': 1, 'has': 1, 'events': 1, 'more': 1, 'wants': 1, 'we': 1, 'someone': 1, 'run': 1, 'way': 1, 'that': 1, 'journal': 1, 'who': 1, 'stay': 1, 'highly': 1, 'reason': 1, 'plan': 1, 'key': 1, 'not': 2, 'optionsi': 1, 'with': 1, 'pages': 1, 'a': 1, 'on': 1, 'for': 1, 'this': 3, 'of': 2, 'could': 1, 'youre': 1, 'up': 1, 'i': 1, 'while': 1, 'an': 1, 'the': 1, 'my': 2, 'think': 1, 'nanny': 1}, {'all': 2, 'nannys': 1, 'just': 1, 'food': 1, 'sleep': 2, 'its': 1, 'weekly': 1, 'now': 1, 'layout': 1, 'had': 1, 'nap': 1, 'rash': 1, 'to': 11, 'add': 1, 'easy': 1, 'has': 2, 'real': 1, 'activities': 1, 'complaint': 1, 'very': 1, 'overall': 1, 'rush': 1, 'lunch': 1, 'walk': 1, 'day': 1, 'instructions': 1, 'notes': 2, 'morning': 1, 'leave': 1, 'she': 3, 'night': 1, 'often': 1, 'back': 1, 'design': 1, 'our': 2, 'out': 1, 'what': 1, 'for': 2, 'space': 1, 'sun': 1, 'please': 1, 'comments': 2, 'milk': 1, 'tracker': 1, 'reply': 1, 'previous': 1, 'journal': 1, 'knowing': 1, 'we': 1, 'eating': 1, 'schedule': 1, 'screen': 1, 'communicate': 1, 'nanny': 3, 'ask': 1, 'on': 3, 'about': 1, 'column': 1, 'of': 4, 'etc': 2, 'amount': 1, 'postits': 1, 'changes': 1, 'or': 2, 'love': 2, 'highly': 1, 'specifics': 1, 'forget': 1, 'andor': 1, 'use': 2, 'her': 2, 'there': 1, 'only': 1, 'quickly': 1, 'recommend': 1, 'tell': 1, 'today': 1, 'naturally': 1, 'that': 2, 'park': 1, 'took': 1, 'stick': 1, 'baby': 4, 'didnt': 1, 'with': 1, 'specify': 1, 'babys': 2, 'this': 2, 'my': 2, 'and': 5, 'is': 2, 'moved': 1, 'it': 3, 'as': 2, 'want': 1, 'in': 5, 'ie': 3, 'everyday': 1, 'fill': 1, 'timetummy': 1, 'no': 1, 'make': 1, 'also': 1, 'hot': 1, 'other': 2, 'details': 2, 'gets': 1, 'daughters': 1, 'play': 1, 'track': 2, 'uses': 1, 'oldermy': 1, 'a': 1, 'i': 7, 'sometimes': 1, 'well': 1, 'patterns': 1, 'time': 2, 'the': 9}, {'and': 1, 'is': 1, 'in': 1, 'it': 1, 'im': 1, 'feedings': 1, 'its': 1, 'perfect': 1, 'would': 1, 'doctor': 1, 'to': 1, 'enough': 1, 'book': 2, 'easy': 1, 'recommend': 1, 'so': 1, 'that': 1, 'track': 1, 'visits': 1, 'back': 1, 'diaper': 2, 'mom': 1, 'new': 2, 'throw': 1, 'moms': 1, 'a': 1, 'made': 1, 'for': 2, 'i': 1, 'of': 1, 'keep': 1, 'this': 3, 'definitely': 1, 'plus': 1, 'time': 1, 'small': 1, 'sleep': 1, 'the': 1, 'changes': 1, 'first': 1}, {'all': 1, 'just': 1, 'not': 1, 'isnt': 1, 'paper': 1, '6pm': 2, 'useful': 1, 'its': 1, 'before': 1, 'perfect': 2, 'fit': 1, 'how': 2, 'with': 2, 'him': 1, 'better': 1, 'to': 9, 'only': 1, 'pretty': 2, 'has': 1, 'gave': 1, 'real': 1, 'me': 2, 'complaint': 1, 'goes': 1, 'emergency': 1, 'format': 1, 'very': 1, 'big': 1, 'they': 1, 'incompleteinaccurate': 1, 'front': 1, 'now': 1, 'day': 2, 'entire': 1, 'helpful': 1, 'daycarenannycaregiver': 1, 'solution': 1, 'leave': 1, 'she': 4, 'each': 1, 'small': 1, 'works': 1, 'page': 1, 'because': 1, 'deal': 1, 'wohld': 1, 'some': 2, 'home': 1, 'out': 1, 'provided': 1, 'for': 7, 'space': 2, 'section': 1, 'behind': 1, '7': 2, 'ends': 1, 'complain': 1, 'little': 2, 'reported': 1, 'nanny': 2, 'wanted': 3, 'on': 1, 'about': 1, 'her': 1, 'getting': 2, 'of': 6, 'could': 1, 'changes': 1, 'and': 5, 'shorthand': 1, 'app': 1, 'one': 1, 'down': 1, 'use': 2, 'from': 2, 'additional': 1, 'would': 2, 'transfer': 1, 'there': 1, 'two': 1, 'much': 1, 'too': 1, 'way': 1, '6': 2, 'was': 2, 'park': 1, 'but': 2, 'phone': 2, 'baby': 1, 'pouch': 1, 'info': 3, 'this': 5, 'originally': 1, 'up': 1, 'reviews': 1, 'suppose': 1, 'starts': 1, 'situation': 1, 'problem': 1, 'my': 4, 'example': 1, 'napsfeedingsdiaper': 1, 'at': 2, 'control': 1, 'is': 3, 'it': 2, 'an': 2, 'im': 2, 'something': 1, 'have': 1, 'in': 1, 'fill': 1, 'information': 4, 'documents': 1, 'end': 1, 'provide': 1, 'get': 1, 'when': 2, 'write': 1, 'also': 3, 'other': 1, 'pad': 2, 'take': 2, 'you': 2, 'if': 1, 'difficult': 1, 'track': 1, 'notebook': 1, 'pages': 1, 'a': 8, '7am': 2, 'tracking': 1, 'remember': 1, 'i': 7, 'try': 1, 'contact': 1, 'time': 1, 'the': 15}, {'breastfeeding': 1, 'all': 1, 'least': 2, 'forget': 1, 'just': 1, 'able': 1, 'both': 1, 'month': 1, 'sleep': 2, 'its': 1, 'perfect': 1, 'also': 1, '3': 1, 'better': 1, 'to': 5, 'hit': 1, 'every': 1, 'not': 1, 'him': 1, 'helpful': 1, 'like': 1, 'serves': 1, 'morning': 1, 'button3': 1, 'either': 1, 'grab': 1, 'side': 2, 'havent': 1, 'often': 2, 'are': 2, 'close': 1, 'really': 1, 'what': 2, 'perverse': 1, 'for': 2, 'heres': 1, 'time2': 1, 'consistently': 1, 'pen': 1, 'nurse': 1, 'handwritten': 1, 'be': 1, 'we': 3, 'journal': 1, 'by': 1, 'on': 3, 'training': 1, 'feeling': 1, 'last': 1, 'of': 1, 'taking': 1, 'keep': 1, 'thing': 1, 'place': 1, 'think': 1, 'useful': 1, 'dont': 1, 'simple': 1, 'app': 2, 'skilled': 1, 'yourself': 1, 'satisfaction': 1, 'long': 1, 'feedings': 1, '177': 1, 'your': 2, 'would': 1, 'been': 1, 'why1': 1, 'start': 1, 'tell': 2, 'more': 1, 'that': 4, 'started': 2, 'about': 1, 'but': 2, 'phone': 2, 'baby': 1, 'with': 1, 'than': 2, 'me': 5, 'keeping': 1, 'look': 1, 'this': 2, 'entertained': 1, 'can': 3, 'deprived': 1, 'gives': 1, 'example': 1, 'connect': 1, 'and': 4, 'it': 3, 'as': 1, 'im': 1, 'at': 5, 'have': 5, 'in': 2, 'times': 1, 'id': 1, 'nursed': 1, 'no': 1, 'granted': 1, 'when': 1, 'same': 1, 'how': 1, 'other': 1, 'you': 3, 'if': 1, 'nice': 2, 'used': 1, 'notebook': 1, 'purpose': 1, 'data': 1, 'a': 5, 'mindlessly': 1, 'i': 8, 'average': 1, 'youre': 2, 'or': 1, 'thought': 1, 'so': 2, 'time': 1, 'the': 4}, {'a': 1, 'and': 1, 'what': 1, 'useful': 1, 'for': 1, 'space': 1, 'i': 1, 'of': 1, 'is': 1, 'exactly': 1, 'with': 1, 'it': 2, 'photos': 1, 'info': 1, 'lot': 1, 'stickers': 1, 'wanted': 1, 'come': 1, 'monthly': 1}, {'and': 3, 'useful': 1, 'have': 2, 'just': 1, 'be': 1, 'photo': 1, 'sticker': 1, 'some': 1, 'it': 3, 'whatever': 1, 'height': 1, 'baby': 1, 'second': 1, 'likes': 1, 'calender': 2, 'stickers': 1, 'event': 1, 'special': 1, 'before': 1, 'one': 1, 'what': 1, 'date': 1, 'weight': 1, 'would': 1, 'to': 3, 'fine': 1, 'there': 1, 'writing': 1, 'write': 1, 'also': 1, 'only': 1, 'does': 1, 'asterisks': 1, 'i': 4, 'has': 1, 'is': 3, 'friend': 1, 'happened': 1, 'do': 1, 'complaint': 1, 'colorful': 1, 'that': 2, 'very': 2, 'put': 1, 'but': 1, 'boxes': 1, 'not': 1, 'son': 1, 'day': 1, 'room': 3, 'a': 3, 'on': 2, 'myself': 1, 'like': 1, 'this': 1, 'many': 1, 'well': 1, 'as': 4, 'placed': 1, 'she': 1, 'each': 2, 'found': 1, 'the': 1, 'bought': 2, 'my': 2, 'page': 2, 'for': 5}, {'and': 1, 'babys': 1, 'love': 1, 'like': 1, 'track': 1, 'of': 2, 'all': 1, 'keep': 1, 'this': 1, 'little': 1, 'too': 1, 'calender': 1, 'illustrations': 1, 'i': 2, 'the': 2, 'firsts': 1, 'stickers': 1, 'you': 1, 'can': 1}, {'and': 1, 'one': 3, 'second': 1, 'are': 1, 'calender': 1, 'year': 2, '1': 1, 'still': 1, 'find': 1, 'note': 1, 'i': 3, 'for': 2, 'turn': 1, 'things': 1, 'there': 1, 'him': 1, 'better': 1, 'to': 2, 'only': 1, 'got': 1, 'was': 2, 'after': 1, 'they': 1, 'wanted': 1, 'than': 1, 'cause': 1, 'this': 2, 'many': 1, 'could': 1, 'did': 1, 'continue': 1, 'so': 1, 'the': 4, 'first': 2}, {'and': 5, 'all': 3, 'have': 1, 'simple': 1, 'year': 2, 'it': 1, 'questions': 1, 'second': 1, 'something': 1, 'want': 1, 'in': 1, 'calendar': 2, 'still': 1, 'stickers': 1, 'its': 1, 'special': 2, 'really': 2, 'layout': 1, 'for': 1, 'hes': 1, 'things': 1, 'since': 1, 'least': 1, 'enjoyed': 1, 'to': 2, 'amazing': 1, 'much': 1, 'you': 1, 'might': 1, 'completed': 1, 'sons': 1, 'his': 1, 'that': 1, 'doing': 1, 'tracking': 1, 'every': 1, 'milestone': 1, 'not': 1, 'wanted': 1, 'day': 1, 'those': 1, 'a': 1, 'milestones': 1, 'like': 1, 'moments': 2, 'i': 3, 'of': 2, 'keep': 1, 'recording': 1, 'while': 1, 'continue': 1, 'so': 2, 'fun': 1, 'the': 4, 'first': 1, 'my': 1, 'at': 1}, {'and': 2, 'cute': 1, 'childs': 1, 'is': 1, 'something': 1, 'our': 1, 'keep': 1, 'out': 1, 'what': 1, 'there': 2, 'to': 2, 'does': 1, 'we': 2, 'option': 1, 'get': 1, 'track': 1, 'exactly': 1, 'wanted': 2, 'a': 1, 'milestones': 1, 'this': 2, 'many': 1, 'choices': 1, 'arent': 1, 'of': 1, 'other': 1}, {'and': 3, 'all': 1, 'later': 1, 'reference': 1, 'picture': 1, 'milestonesand': 1, 'is': 3, 'hard': 1, 'some': 1, 'it': 2, 'years': 1, 'down': 1, 'put': 1, 'second': 1, 'vs': 1, 'have': 1, 'in': 2, 'calendar': 2, 'find': 1, 'out': 1, 'has': 1, 'little': 1, 'everything': 1, 'memories': 1, 'had': 1, 'two': 1, 'write': 1, 'to': 5, 'only': 1, 'much': 1, 'way': 1, 'finding': 1, 'you': 1, 'fill': 1, 'across': 1, 'do': 2, 'jot': 1, 'that': 1, 'track': 1, 'big': 1, 'time': 1, 'spot': 1, 'ones': 1, 'they': 1, 'baby': 2, 'one': 1, 'change': 1, 'a': 6, 'on': 1, 'great': 2, 'squares': 1, 'like': 1, 'i': 5, 'of': 1, 'months': 1, 'year': 1, 'as': 2, 'keep': 1, 'large': 1, 'this': 3, 'easier': 1, 'so': 3, 'can': 2, 'enough': 1, 'well': 1, 'the': 5, 'book': 2, 'came': 1, 'first': 1}, {'and': 1, 'cute': 1, 'selection': 1, 'just': 1, 'certain': 1, 'is': 1, 'hard': 1, 'some': 1, 'it': 2, 'an': 1, 'because': 2, 'are': 1, 'purchased': 1, 'in': 1, 'okay': 1, 'calendar': 2, 'stickers': 1, 'its': 1, 'out': 1, 'my': 2, 'write': 1, 'purchasers': 1, 'pens': 1, 'secondyear': 2, 'oldfashioned': 1, 'disappointed': 1, 'had': 1, 'looking': 1, 'to': 1, 'only': 2, 'other': 1, 'which': 1, 'hopefully': 1, 'got': 1, 'really': 1, 'was': 2, 'glossy': 1, 'available': 1, 'son': 1, 'finish': 1, 'general': 1, 'pretty': 1, 'with': 3, 'calendars': 2, 'lack': 1, 'ones': 1, 'they': 1, 'one': 3, 'come': 1, 'pages': 2, 'a': 1, 'on': 2, 'daughter': 1, 'for': 4, 'this': 1, 'of': 2, 'will': 1, 'i': 4, 'future': 1, 'so': 1, 'arent': 1, 'very': 1, 'the': 6, 'makes': 1}, {'and': 4, 'cute': 1, 'own': 1, 'love': 1, 'want': 1, 'just': 1, 'is': 2, '1st': 1, 'highly': 1, 'helped': 1, 'not': 1, 'second': 2, 'are': 2, 'have': 1, 'year': 4, 'my': 2, 'calendar': 3, 'stickers': 1, 'its': 1, 'out': 1, 'perfect': 1, 'reocording': 1, 'one': 1, 'for': 3, 'record': 2, 'with': 1, 'there': 2, 'to': 2, 'wonderful': 1, 'lullabies': 1, 'recommend': 1, 'might': 1, 'events': 2, 'loved': 1, 'recording': 1, 'life': 1, 'his': 1, 'that': 2, 'stop': 1, 'of': 6, 'continuing': 1, 'me': 1, 'sons': 1, 'plenty': 1, 'baby': 1, 'now': 1, 'super': 1, 'he': 1, 'calendars': 1, 'on': 2, 'keeping': 1, 'milestones': 1, 'brat': 1, 'this': 2, 'gender': 1, 'daily': 1, 'thought': 1, 'i': 4, 'plus': 1, 'either': 1, 'natures': 1, 'the': 1, 'didnt': 1, 'think': 1, 'first': 1}, {'just': 1, 'is': 1, 'cheap': 2, 'it': 2, 'as': 1, 'are': 1, 'calendar': 1, 'stickers': 1, 'find': 1, 'use': 1, 'described': 1, 'lots': 1, 'there': 1, 'to': 2, 'was': 1, 'nice': 1, 'be': 1, 'very': 1, 'exactly': 1, 'but': 1, 'disappointed': 1, 'look': 1, 'i': 2, 'of': 2, 'so': 1, 'the': 1, 'looks': 1}, {'and': 2, 'dont': 1, 'just': 1, 'is': 1, 'milestone': 1, 'it': 1, 'down': 1, 'as': 1, 'spaces': 1, 'have': 1, 'easy': 1, 'mark': 1, 'stickers': 1, 'out': 1, 'use': 1, 'firsts': 1, 'for': 3, 'sit': 1, 'scrap': 1, 'actually': 1, 'to': 3, 'enough': 1, 'ton': 1, 'lot': 1, 'new': 1, 'borders': 1, 'sticker': 1, 'booking': 1, 'option': 1, 'calender': 1, 'moms': 1, 'who': 1, 'includes': 1, 'photos': 2, 'haul': 1, 'scrapbook': 1, 'with': 1, 'a': 3, 'especially': 1, 'wife': 1, 'this': 1, 'of': 2, 'well': 1, 'etc': 1, 'supplies': 1, 'loves': 1, 'time': 1, 'very': 1, 'the': 1, 'options': 1, 'comes': 1}, {'and': 2, 'this': 1, 'old': 1, 'able': 1, 'over': 1, '1st': 1, 'nearing': 1, 'son': 1, 'second': 1, 'thanks': 1, 'year': 3, 'tender': 1, 'art': 1, 'calendar': 2, 'stickers': 1, 'fill': 2, 'for': 3, 'get': 1, 'when': 1, 'looking': 1, 'to': 4, 'wonderful': 1, 'sweet': 1, 'was': 3, 'nice': 1, 'a': 6, 'his': 2, 'keepsake': 1, 'it': 1, 'oneyear': 1, 'amazon': 1, 'birthday': 1, 'baby': 1, 'unique': 1, 'pages': 1, 'had': 1, 'ago': 1, 'milestones': 1, 'daughter': 1, 'helpful': 1, 'gift': 1, 'i': 1, 'work': 1, 'up': 1, 'record': 1, 'her': 3, 'she': 3, 'loves': 1, 'did': 1, 'my': 1, 'receive': 1, 'first': 2}, {'and': 1, 'remembering': 1, 'useful': 1, 'tired': 1, 'helped': 1, 'baby': 1, 'as': 1, 'through': 1, 'two': 1, 'long': 1, 'how': 1, 'new': 1, 'ago': 1, 'a': 1, 'mom': 1, 'not': 1, 'extremely': 1, 'me': 1, 'ate': 1, 'inexpedient': 1, 'this': 1, 'months': 1, 'definitely': 1, 'the': 1, 'first': 1}, {'and': 4, 'right': 1, 'just': 2, 'show': 1, 'seems': 1, 'it': 2, 'son': 1, 'hair': 1, 'shakes': 1, 'through': 1, 'likes': 2, 'mirror': 1, 'if': 2, 'perfect': 1, 'thought': 1, 'end': 1, 'takes': 1, 'would': 1, 'hes': 1, 'make': 1, 'when': 2, 'months': 1, 'also': 1, 'enough': 1, 'does': 1, '9': 1, 'blowkisses': 1, 'be': 1, 'his': 1, 'around': 1, 'though': 1, 'facemaybe': 1, 'however': 1, 'but': 1, 'gestures': 1, 'most': 1, 'fan': 1, 'hands': 1, 'front': 1, 'peek': 1, 'now': 1, 'with': 1, 'him': 2, 'he': 5, 'a': 1, 'peekaboo': 1, 'engage': 1, 'like': 1, 'older': 1, 'i': 4, 'of': 1, 'age': 1, 'pretend': 1, 'cover': 2, 'flip': 2, 'will': 1, 'this': 3, 'doesnt': 1, 'so': 1, 'flaps': 1, 'loves': 1, 'boo': 1, 'the': 10, 'my': 1, 'book': 4, 'towards': 1, 'at': 2}, {'and': 2, 'because': 1, 'just': 1, 'less': 1, 'is': 1, 'some': 1, 'it': 1, 'one': 1, 'see': 1, 'books': 1, 'in': 1, 'star': 1, 'id': 1, 'perfect': 1, 'washable': 1, 'family': 1, 'people': 1, 'your': 1, '1': 1, 'to': 1, 'white': 1, 'gave': 1, 'diversity': 1, 'not': 1, 'than': 1, 'babys': 1, 'like': 1, 'i': 1, 'of': 1, 'favorite': 1, 'the': 1, 'typical': 1, 'first': 1}, {'family': 1, 'over': 1, 'it': 2, 'seat': 1, 'hook': 1, 'go': 1, 'your': 1, 'how': 1, 'to': 3, 'book': 1, 'way': 1, 'has': 1, 'attach': 1, 'a': 1, 'get': 1, 'members': 1, 'wont': 1, 'great': 1, 'like': 1, 'lost': 1, 'i': 1, 'car': 1, 'or': 1, 'the': 1, 'stroller': 1}, {'and': 2, 'beautiful': 1, 'love': 1, 'saying': 1, 'it': 2, 'are': 1, 'little': 2, 'interacting': 1, 'to': 1, 'when': 1, 'actually': 1, 'youkeeps': 1, 'book': 1, 'you': 1, 'then': 1, 'attention': 1, 'story': 1, 'finished': 1, 'baby': 2, 'hold': 1, 'with': 1, 'pages': 1, 'a': 1, 'on': 1, 'great': 1, 'short': 1, 'i': 1, 'of': 1, 'turn': 1, 'can': 1, 'the': 4}, {'and': 1, 'cute': 1, 'says': 1, 'money': 1, 'is': 1, 'it': 2, 'born': 1, 'cant': 1, 'are': 1, 'open': 1, 'its': 1, 'before': 1, 'use': 1, 'for': 1, 'there': 1, 'to': 4, 'book': 1, '9': 1, 'worth': 1, 'be': 1, 'very': 1, 'but': 1, 'every': 1, 'baby': 1, 'wait': 1, 'box': 1, 'on': 2, 'i': 1, 'months': 1, 'try': 1, 'this': 1, 'so': 2, 'flaps': 1, 'the': 2, 'my': 1, 'page': 1, 'interactive': 1}, {'and': 3, 'chew': 1, 'all': 1, 'love': 1, 'just': 1, 'can': 2, 'simple': 1, 'house': 1, 'is': 1, 'it': 7, 'rip': 1, 'one': 1, 'chunks': 1, 'cant': 1, 'paper': 1, 'learning': 1, 'carry': 1, 'our': 1, 'open': 1, 'its': 1, 'out': 1, 'little': 1, 'for': 1, 'bite': 1, 'that': 2, 'book': 2, 'board': 1, 'got': 1, 'puppy': 1, 'over': 1, 'nice': 1, 'we': 2, 'on': 2, 'she': 5, 'words': 1, 'oneyearold': 1, 'a': 2, 'pull': 1, 'like': 3, 'this': 1, 'of': 1, 'mommy': 1, 'etc': 1, 'so': 1, 'flaps': 1, 'loves': 2, 'the': 2, 'daddy': 1, 'or': 1}, {'and': 2, 'andor': 1, 'is': 2, 'in': 1, '6months': 1, 'dunked': 1, 'perfect': 1, 'for': 1, 'detergent': 1, 'only': 1, 'book': 2, 'was': 1, 'then': 1, 'colorful': 1, 'material': 1, 'let': 1, 'smell': 1, 'strong': 1, 'pages': 1, 'dry': 1, 'like': 1, 'older': 1, 'i': 2, 'of': 1, 'overnight': 1, 'thing': 1, 'dyes': 1, 'the': 6, 'didnt': 1}, {'and': 3, 'cute': 1, 'family': 1, 'is': 1, 'some': 1, 'we': 1, 'one': 1, 'hair': 1, 'are': 1, 'our': 1, 'out': 1, 'huge': 1, 'little': 1, 'said': 1, 'no': 1, 'to': 1, 'fans': 1, 'book': 1, 'cause': 1, 'can': 1, 'play': 1, 'that': 1, 'however': 1, 'lamaze': 1, 'hurt': 1, 'possibly': 1, 'members': 1, 'hands': 1, 'baby': 1, 'feelings': 1, 'with': 1, 'this': 1, 'of': 1, 'leaves': 1, 'brother': 1, 'products': 1, 'flaps': 1, 'loves': 1, 'the': 2}, {'booka': 1, 'what': 1, 'is': 1, 'books': 2, 'another': 1, 'id': 1, 'couldnt': 1, 'your': 1, 'page': 1, 'perfect': 1, 'damaged': 1, 'adds': 1, 'for': 3, 'been': 1, 'plastic': 1, 'looking': 1, 'to': 1, 'options': 1, 'babies': 1, 'be': 1, 'which': 1, '10month': 1, 'olds': 1, 'cloth': 2, 'part': 1, 'every': 1, 'baby': 1, 'flap': 1, 'by': 1, 'a': 1, 'on': 1, 'great': 1, 'level': 1, 'this': 2, 'droolso': 1, 'book': 3, 'were': 1, 'fun': 1, 'moving': 1, 'usual': 1, 'my': 3, 'or': 2, 'interactive': 1}, {'infant': 1, 'being': 1, 'all': 1, 'course': 1, 'still': 1, 'perfect': 1, 'now': 2, 'parenti': 1, 'to': 1, 'only': 2, 'board': 1, 'teaching': 1, 'them': 1, 'his': 2, 'lamaze': 2, 'nearly': 1, 'they': 1, 'not': 2, 'one': 2, 'like': 1, 'enjoy': 1, 'chew': 1, 'because': 1, 'series': 1, 'books': 2, 'are': 2, 'out': 1, 'for': 4, 'does': 1, 'reading': 1, 'issue': 1, 'discovery': 1, 'peek': 1, 'we': 2, 'grandparents': 1, 'members': 1, 'on': 1, 'sister': 1, 'of': 3, 'etc': 1, 'boo': 1, 'liked': 1, 'love': 1, 'family': 1, 'son': 3, 'doesnt': 1, 'names': 1, 'additional': 1, 'would': 1, 'hes': 1, 'two': 1, 'much': 1, 'lot': 1, 'was': 3, 'flap': 1, 'that': 3, 'about': 1, 'but': 4, 'lift': 1, 'child': 1, 'with': 2, 'he': 3, 'loved': 1, 'look': 1, 'this': 4, 'as': 3, 'cat': 1, 'learn': 1, 'fun': 2, 'didnt': 1, 'and': 6, 'it': 6, 'an': 1, 'say': 1, 'at': 1, 'have': 1, 'my': 3, 'id': 1, 'again': 1, 'book': 3, 'destroy': 1, 'used': 1, 'farm': 1, 'favorites': 1, 'a': 3, 'i': 1, 'well': 1, 'dog': 1, 'the': 5, 'playing': 1}, {'and': 1, 'own': 1, 'it': 3, 'our': 1, 'for': 1, 'when': 1, 'to': 1, 'book': 1, 'enjoys': 2, 'has': 1, 'his': 1, 'loved': 1, 'read': 1, 'baby': 1, 'now': 1, 'with': 1, 'him': 1, 'he': 1, 'a': 1, 'on': 1, 'i': 1, 'this': 1, 'while': 1, 'loves': 1, 'playing': 1}, {}, {'a': 1, 'brushing': 1, 'play': 1, 'kids': 1, 'almost': 1, 'of': 1, 'haha': 1, 'too': 1, 'son': 1, 'to': 1, 'book': 1, 'let': 1, 'likes': 1, 'teeth': 1, 'my': 1, 'the': 1, 'elmos': 1, 'with': 1, 'nice': 1}, {'and': 3, 'imaginative': 1, 'love': 1, 'it': 2, 'through': 1, 'are': 1, 'year': 1, 'go': 1, 'old': 1, 'children': 1, 'again': 1, 'for': 1, 'sit': 1, 'pictures': 1, 'young': 1, 'to': 1, 'book': 1, 'themselves': 1, 'appeal': 1, 'was': 1, 'buy': 1, 'grandchildren': 1, 'birthday': 1, 'they': 1, '2': 1, 'by': 1, 'present': 1, 'a': 1, 'would': 1, 'this': 2, 'will': 1, 'the': 1, 'my': 1, 'page': 2}, {'and': 3, 'rating': 1, 'have': 1, 'just': 1, 'cute': 1, 'simple': 1, 'is': 1, 'mail': 1, 'back': 1, 'dead': 1, 'down': 1, 'cant': 1, 'growled': 1, 'something': 1, 'disappointmentits': 1, 'in': 1, 'handle': 1, '5': 1, 'saw': 1, 'find': 1, 'battery': 1, 'if': 2, 'even': 1, 'would': 2, 'no': 1, 'absolutely': 1, 'give': 1, 'when': 1, 'actually': 1, 'how': 1, 'other': 1, 'kenzie': 1, 'take': 1, 'new': 1, 'giggled': 1, 'was': 3, 'excited': 1, 'adorable': 1, 'star': 1, 'to': 4, 'suppose': 1, 'granddaughter': 1, 'but': 1, 'it': 6, 'its': 1, 'bear': 1, 'got': 1, 'such': 1, 'now': 1, 'super': 1, 'day': 1, 'a': 4, 'going': 1, 'as': 2, 'like': 1, 'gift': 1, 'this': 1, 'where': 1, 'could': 1, 'batteries': 1, 'i': 6, 'place': 1, 'the': 3, 'my': 1, 'or': 1}, {'and': 4, 'soft': 1, 'all': 1, 'because': 1, 'streetelmo': 1, 'another': 1, 'elmo': 4, 'absolutely': 1, 'is': 5, 'it': 2, 'one': 1, 'illustrated': 1, 'featured': 1, 'right': 1, 'im': 1, 'are': 1, 'hides': 1, 'beautifully': 1, 'seemed': 1, 'perfect': 1, 'happy': 1, 'little': 1, 'lovers': 1, 'takes': 1, 'would': 1, 'to': 1, 'character': 1, 'also': 2, 'her': 1, 'book': 3, 'too': 1, 'which': 2, 'recommend': 1, 'main': 1, 'was': 1, 'nice': 1, 'available': 1, 'centric': 1, 'that': 1, 'price': 1, 'each': 1, 'amazon': 1, 'everywhere': 1, 'characters': 1, 'baby': 1, 'he': 1, 'a': 1, 'on': 2, 'great': 2, 'for': 3, 'i': 2, 'of': 2, 'twinkle': 2, 'reads': 1, 'sesame': 2, 'this': 2, 'while': 1, 'street': 1, 'so': 2, 'loves': 1, 'time': 1, 'fun': 1, 'the': 3, 'other': 1, 'my': 2, 'page': 1, 'say': 1, 'interactive': 1}, {'and': 2, 'beautiful': 1, 'love': 1, 'elmo': 1, 'is': 1, 'bright': 1, 'doesnt': 1, 'are': 1, 'showers': 1, 'lastly': 1, 'any': 1, 'for': 2, 'two': 1, 'book': 1, 'bought': 1, 'who': 1, 'baby': 2, 'recent': 1, 'great': 1, 'i': 1, 'colors': 1, 'the': 2, 'soft': 1, 'interactive': 1}, {'and': 2, 'another': 1, 'elmo': 1, 'is': 2, 'one': 1, 'books': 1, 'softplay': 1, 'birds': 1, 'variety': 1, 'two': 1, 'creative': 1, 'to': 1, 'only': 1, 'book': 3, 'has': 1, 'bird': 1, 'more': 2, 'we': 2, 'get': 1, 'big': 2, 'but': 1, 'wanted': 1, 'friends': 1, 'like': 1, 'this': 1, 'fun': 1, 'found': 1, 'the': 3}, {'and': 1, 'cute': 1, 'story': 1, 'handle': 1, 'for': 1, 'this': 1, 'is': 2, 'safe': 1, 'it': 1, 'to': 1, 'book': 1, 'a': 1, 'easy': 1, 'baby': 1, 'peekaboo': 1, 'little': 1, 'soft': 1, 'its': 2}, {'and': 7, 'old': 1, 'elmo': 1, 'is': 1, 'laughs': 1, 'it': 2, 'month': 1, 'say': 1, 'books': 1, 'have': 1, 'find': 1, 'different': 1, '34peekaboo': 1, 'for': 1, 'few': 1, 'to': 1, '3': 1, 'book': 1, '5': 1, 'stars': 1, 'over': 2, 'smiles': 1, 'we': 3, 'sure': 1, 'colorful': 1, 'read': 2, 'most': 1, 'every': 1, 'baby': 1, 'son': 1, 'elmo34': 1, 'he': 1, 'a': 1, 'adores': 1, 'this': 2, 'my': 1, 'so': 1, 'loves': 1, 'time': 1, 'fun': 1, 'the': 1, 'soft': 1}, {'son': 1, 'cute': 1, 'great': 1, 'babies': 1, 'colorful': 1, 'this': 2, 'make': 1, 'for': 1, 'very': 1, 'bright': 1, 'book': 2, 'loves': 1, 'illustrations': 1, 'the': 1, 'toddlers': 1, 'my': 1, 'interactive': 1}, {'and': 2, 'all': 1, 'love': 2, 'they': 8, 'elmo': 2, 'over': 1, 'play': 1, 'high': 1, 'see': 1, 'are': 3, 'still': 1, 'before': 1, 'use': 1, 'for': 1, 'to': 2, 'when': 2, 'two': 1, 'how': 1, 'book': 1, '9': 1, 'got': 1, 'if': 1, 'bought': 1, 'we': 1, 'buy': 1, 'blocks': 1, 'mos': 1, 'it': 1, 'were': 1, 'falls': 1, 'them': 4, 'granddauchildren': 1, 'kiss': 1, 'fall': 1, 'baby': 1, 'now': 1, 'with': 2, 'stack': 1, 'present': 1, 'a': 1, 'on': 1, 'safe': 1, 'reading': 1, 'i': 1, 'as': 1, 'so': 1, 'can': 1, 'time': 1, 'fun': 1, 'the': 4, 'soft': 1, 'having': 1}, {'and': 5, 'chew': 1, 'all': 1, 'teething': 1, 'over': 2, 'baby': 1, 'have': 1, 'letting': 1, 'for': 3, 'their': 1, 'to': 2, 'encourage': 1, 'setting': 1, 'ruining': 1, 'babies': 1, 'christmas': 1, 'them': 3, 'crawling': 1, 'great': 3, 'break': 1, 'they': 1, 'rolling': 1, 'entertaining': 1, 'bank': 1, 'younger': 1, 'off': 1, 'gift': 1, 'these': 1, 'worrying': 1, 'droll': 1, 'i': 1, 'without': 1, 'were': 2, 'about': 1, 'the': 4, 'didnt': 1, 'side': 1}, {'a': 1, 'this': 1, 'granddaughter': 1, 'would': 1, 'to': 1, 'i': 1, 'of': 1, 'is': 2, 'recommend': 1, 'it': 2, 'boring': 1, 'nothing': 1, 'book': 1, 'money': 1, 'not': 1, 'waste': 1, 'my': 1, 'stimulate': 1}, {'fantastic': 1, 'old': 1, 'want': 1, 'show': 1, 'is': 3, 'hard': 1, 'them': 1, 'one': 1, 'nothing': 1, 'lion': 3, 'books': 1, 'looks': 1, 'have': 1, 'year': 1, 'images': 1, 'our': 1, 'find': 1, '1': 1, 'what': 3, 'with': 1, 'looking': 1, 'to': 2, 'many': 1, 'real': 2, 'we': 3, 'that': 1, 'portrayals': 1, 'exactly': 1, 'but': 1, 'it': 1, 'cloth': 1, 'not': 1, 'teach': 1, 'unrealistic': 1, 'him': 1, 'like': 2, 'a': 4, 'on': 1, 'actual': 1, 'look': 1, 'forwhen': 1, 'this': 1, 'of': 1, 'animalsobjects': 1, 'so': 2, 'were': 1, 'drawing': 1}, {'is': 1, 'something': 1, 'little': 1, 'for': 1, 'no': 1, 'memories': 1, 'there': 1, 'young': 1, 'reading': 1, 'destroyingmany': 1, 'happy': 2, 'them': 1, 'very': 1, 'chance': 1, 'they': 1, 'child': 1, 'cuteso': 1, 'of': 1, '34': 1, 'can': 1, 'read34': 1, 'the': 1, 'or': 1}, {'cute': 1, 'old': 1, 'to': 1, 'i': 1, 'interesting': 1, '1year': 1, 'anyway': 1, 'texture': 1, 'mot': 1, 'thought': 1, 'etc': 1, 'bad': 1, 'but': 2, 'not': 2, 'my': 1, 'as': 2, 'interactive': 1}, {'and': 1, 'be': 1, 'great': 1, 'love': 1, 'daughter': 1, 'this': 1, 'when': 1, 'it': 1, 'me': 1, 'will': 1, 'born': 1, 'so': 1, 'a': 2, 'our': 1, 'fun': 1, 'momento': 1, 'calendar': 1, 'was': 1, 'its': 1, 'friend': 1, 'bought': 1}, {'a': 2, 'and': 1, 'little': 1, 'busy': 1, 'firsttime': 1, 'especially': 1, 'for': 1, 'up': 1, 'of': 1, 'easy': 1, 'all': 1, 'one': 1, 'to': 1, 'milestones': 1, 'mom': 1, 'quick': 1, 'the': 1, 'keep': 1, 'with': 1, 'first': 1}, {'remembering': 1, 'and': 4, 'year': 1, 'am': 1, 'back': 1, 'month': 1, 'high': 1, 'personalization': 1, 'calendar': 1, 'throughout': 1, 'down': 1, 'perfect': 1, 'will': 1, 'based': 1, 'for': 3, 'to': 1, 'memories': 1, 'spots': 1, 'jotting': 1, 'also': 1, 'low': 1, 'has': 1, 'happy': 1, 'be': 1, 'that': 1, 'searched': 1, 'dates': 1, 'quick': 1, 'one': 1, 'a': 1, 'on': 3, 'babys': 1, 'look': 1, '34firsts34': 1, 'this': 1, 'of': 1, 'reviews': 1, 'i': 3, 'so': 1, 'pictures': 1, 'fun': 1, 'did': 1, 'the': 2, 'settled': 1, 'first': 1}, {'enjoy': 1, 'give': 1, 'is': 2, 'soon': 1, 'one': 1, 'born': 1, 'as': 3, 'are': 1, 'want': 1, 'children': 1, 'these': 1, 'from': 1, 'would': 1, 'to': 3, 'had': 1, 'looking': 1, 'start': 1, 'parents': 2, 'new': 1, 'themselves': 1, 'good': 1, 'that': 1, 'very': 2, 'mother': 1, 'calendars': 1, 'chart': 1, 'it': 1, 'five': 1, 'they': 3, 'baby': 1, 'now': 1, 'beginning': 1, 'you': 1, 'especially': 1, 'a': 2, 'for': 2, 'gift': 1, '34firsts34': 2, 'this': 1, 'of': 2, 'up': 1, 'their': 1, 'i': 1, 'so': 1, 'can': 1, 'each': 1, 'the': 3, 'my': 1}, {}, {'and': 2, 'all': 1, 'love': 1, 'purchased': 1, 'absolutely': 1, 'it': 2, 'born': 1, 'daughterinlaw': 1, 'in': 1, 'again': 1, 'for': 1, 'when': 1, 'same': 1, 'to': 1, 'version': 1, 'scripture': 1, 'thrilled': 1, 'baby': 1, 'he': 1, 'boy': 1, 'grandson': 1, 'receive': 1, 'was': 2, 'i': 1, 'of': 1, 'the': 3, 'my': 2, 'book': 1}, {'simple': 1, 'it': 1, 'verses': 1, 'as': 1, 'at': 1, 'in': 1, 'for': 1, 'bottom': 1, 'memories': 1, 'to': 1, 'bought': 1, 'loved': 2, 'but': 1, 'important': 1, 'put': 1, 'law': 1, 'pages': 1, 'a': 2, 'down': 1, 'daughter': 1, 'gift': 1, 'i': 1, 'of': 1, 'place': 1, 'she': 1, 'the': 1, 'my': 1}, {'all': 1, 'right': 1, 'prayers': 1, 'wasnt': 1, 'some': 1, 'product': 1, 'baby': 1, 'are': 1, 'have': 1, 'religious': 1, 'out': 1, 'fir': 1, 'i': 3, 'for': 3, 'memories': 1, 'was': 1, 'realize': 1, 'almost': 1, 'book': 1, 'has': 1, 'scripture': 1, 'we': 1, 'sure': 1, 'returned': 1, 'that': 3, 'ages': 1, 'but': 2, 'it': 2, 'not': 1, 'with': 1, 'pages': 1, 'ask': 1, 'a': 1, 'keeping': 1, 'lifestyle': 1, 'anything': 1, 'this': 1, 'of': 1, 'favorite': 1, 'against': 1, 'etc': 1, 'so': 2, 'the': 4, 'didnt': 1}, {'and': 4, 'cute': 1, 'liked': 1, 'questions': 1, 'had': 1, 'is': 3, 'prints': 1, 'one': 2, 'born': 1, 'want': 1, 'hairetc': 1, 'your': 2, 'even': 1, 'has': 1, 'little': 2, 'for': 4, 'also': 1, 'memories': 1, 'when': 2, 'to': 2, 'asking': 1, 'which': 1, 'it': 2, 'place': 1, 'you': 1, 'main': 1, 'perfect': 1, 'we': 1, 'omgwe': 1, 'baby': 3, 'hand': 1, 'reason': 1, 'keepsakes': 1, 'foot': 1, 'why': 1, 'bigger': 1, 'remember': 1, 'a': 2, 'loved': 1, 'great': 1, 'gets': 1, 'places': 1, 'gift': 1, 'locks': 1, 'this': 2, 'of': 1, 'put': 1, 'shower': 1, 'so': 1, 'pockets': 1, 'starts': 1, 'the': 2, 'book': 1, 'first': 1}, {'pink': 1, 'pastel': 1, 'life': 1, 'love': 1, 'i': 1, 'record': 1, 'color': 1, 'my': 1, 'great': 1, 'granddaughters': 1, 'to': 1, 'cherished': 1, 'book': 1, 'in': 1, 'it': 1, 'the': 1, 'times': 1, 'with': 1, 'beautiful': 2}, {'and': 2, 'mini': 1, 'family': 1, 'is': 2, 'an': 1, 'hair': 1, 'maternity': 1, 'in': 1, 'fill': 1, 'perfect': 1, 'happy': 2, 'for': 1, 'looking': 1, 'to': 2, 'book': 1, 'lot': 1, 'really': 1, 'was': 1, 'flammish': 1, 'preserve': 1, 'firstsand': 1, 'french': 1, 'baby': 1, 'one': 1, 'with': 1, 'info': 1, 'purchase': 1, 'braceletreally': 1, 'this': 2, 'of': 1, 'i': 1, 'pockets': 1, 'english': 1, 'im': 1, 'the': 2, 'daddy': 1}, {'detailed': 1, 'and': 2, 'everyone': 1, 'is': 1, 'parentid': 1, 'it': 1, 'childs': 1, 'through': 1, 'descriptions': 1, 'questions': 1, 'year': 1, 'your': 2, 'perfect': 1, 'kindergarten': 2, 'for': 2, 'its': 1, 'serving': 1, 'to': 3, 'book': 2, 'way': 1, 'recommend': 1, 'answer': 1, 'receiving': 1, 'was': 1, 'surprised': 1, 'entitled': 1, 'photographs': 1, 'life': 1, 'very': 1, 'memory': 1, 'upon': 1, 'kindergartener': 1, 'important': 1, 'purpose': 1, 'child': 1, 'with': 1, 'pleasantly': 1, 'a': 1, 'in': 1, 'i': 1, 'of': 1, 'this': 2, 'experience': 1, 'record': 2, 'while': 1, 'ones': 1, 'time': 1, 'fun': 1, 'the': 4, 'my': 1, 'are': 1}, {'and': 1, 'already': 1, 'answered': 1, 'back': 1, 'years': 1, 'see': 1, 'im': 1, 'questions': 2, 'stumbled': 1, 'how': 1, 'answering': 1, 'to': 2, 'glad': 1, 'memory': 1, 'has': 1, 'be': 1, 'started': 1, 'upon': 1, 'it': 1, 'son': 1, 'gem': 1, 'he': 1, 'a': 1, 'great': 1, 'look': 1, 'these': 1, 'later': 1, 'will': 1, 'i': 2, 'so': 1, 'the': 1, 'my': 1, 'think': 1}, {'and': 1, 'old': 1, 'just': 2, 'character': 1, 'is': 1, 'it': 1, 'month': 1, 'as': 1, 'have': 1, 'toy': 1, 'hes': 1, 'when': 1, 'long': 1, 'pages': 1, 'to': 3, 'enough': 1, 'book': 2, 'stuffed': 1, '6': 1, 'so': 1, 'be': 1, 'we': 1, 'attention': 1, 'elephant': 1, 'realization': 1, 'words': 1, 'few': 2, 'son': 1, 'with': 1, 'between': 1, 'association': 1, 'a': 2, 'short': 1, 'older': 1, 'of': 2, 'well': 1, 'see': 1, 'keep': 1, 'will': 1, 'neat': 1, 'each': 1, 'the': 7, 'my': 1, 'page': 1}, {'and': 1, 'is': 1, 'it': 3, 'highly': 1, 'for': 1, 'also': 1, 'pretty': 1, 'recommend': 1, 'gives': 1, 'be': 1, 'used': 1, 'very': 1, 'a': 3, 'great': 1, 'made': 1, 'gift': 1, 'this': 1, 'light': 1, 'well': 1, 'will': 1, 'yearsi': 1, 'nice': 1, 'makes': 1}, {'affordable': 1, 'and': 2, 'room': 1, 'project': 1, 'wall': 1, 'quality': 1, 'a': 1, 'try': 1, 'up': 1, 'for': 1, 'decals': 1, 'this': 1, '5': 1, 'brightens': 1, 'easy': 1, 'spring': 1, 'fun': 1, 'fine': 1, 'any': 1, 'out': 1}, {'all': 1, 'because': 1, 'wall': 1, 'money': 1, 'is': 1, 'it': 1, 'one': 1, 'see': 1, 'in': 2, 'apply': 1, 'flower': 1, 'floor': 1, 'when': 1, 'how': 1, 'only': 1, 'you': 1, 'waste': 1, 'pieceyou': 1, 'roll': 1, 'to': 1, 'most': 1, 'fell': 1, 'know': 1, 'reasonsmall': 1, 'flowers': 1, 'day': 1, 'a': 1, 'on': 2, 'sizehard': 1, 'of': 1, 'second': 1, 'morning': 1, 'will': 1, 'part': 1, 'the': 4}, {'and': 1, 'would': 2, 'almost': 1, 'decals': 1, 'as': 1, 'thick': 1, 'again': 1, 'for': 1, 'literally': 1, 'stayed': 1, 'plastic': 1, 'stuck': 1, '5': 1, 'recommend': 1, 'was': 1, 'then': 1, 'them': 1, 'started': 1, 'peeling': 1, 'stick': 1, 'coming': 1, 'not': 2, 'applying': 1, 'wall': 1, 'purchase': 1, 'about': 1, 'off': 2, 'like': 1, 'i': 1, 'were': 2, 'the': 3, 'minutes': 1, 'or': 1}, {'and': 3, '34look34': 1, 'all': 1, 'dont': 1, 'themed': 1, 'winnie': 1, 'fantastic': 1, 'cost': 1, 'at': 1, 'in': 1, 'stickers': 2, 'impressed': 1, 'decor': 1, 'get': 1, 'seamless': 1, 'to': 1, 'easy': 1, 'new': 1, 'was': 1, 'zealand': 1, 'option': 1, 'that': 1, 'very': 4, 'paintwork': 1, 'stick': 1, 'they': 2, 'not': 1, 'pooh': 1, 'with': 1, 'wall': 2, 'like': 1, 'a': 1, 'on': 3, 'look': 1, 'effective': 1, 'i': 2, 'could': 1, 'these': 2, 'were': 2, 'professional': 1, 'the': 3}, {'and': 1, 'on': 1, 'product': 2, 'said': 1, 'i': 2, 'ir': 1, 'grat': 1, 'it': 1, 'highly': 1, 'about': 1, 'very': 1, 'as': 1, 'design': 1, 'buying': 1, 'reccomend': 1, 'follow': 1, 'the': 2, 'satisfied': 1, 'page': 1, 'came': 1, 'more': 1}, {'love': 1, 'chain': 1, 'it': 1, 'an': 1, 'in': 1, 'need': 1, 'our': 1, 'divine': 3, 'your': 1, 'jesuswho': 1, 'jesus': 1, 'for': 1, 'pray': 1, 'god': 1, 'to': 1, 'offers': 1, 'you': 1, 'nice': 1, 'around': 1, 'on': 1, 'very': 1, 'lives': 1, 'pendant': 1, 'now': 1, 'him': 1, 'represents': 1, 'neck': 1, 'country': 1, 'us': 1, 'ocean': 1, 'of': 2, 'my': 1, 'mercy': 3}, {'and': 4, 'soft': 1, 'right': 1, 'love': 1, 'simple': 1, 'done': 1, 'are': 3, 'our': 1, 'find': 1, 'for': 2, 'ordering': 1, 'get': 1, 'actually': 1, 'other': 1, 'my': 1, 'wipes': 2, 'more': 1, 'a': 2, 'them': 2, 'after': 1, 'that': 1, 'price': 1, 'million': 1, 'uses': 1, 'know': 1, 'they': 3, 'baby': 1, 'during': 1, 'now': 1, 'reusable': 1, 'dry': 1, 'great': 1, 'these': 1, 'of': 1, 'ill': 1, 'days': 1, 'i': 2, 'so': 1, 'clean': 1, 'im': 1, 'changes': 1, 'diaper': 2}, {'and': 2, 'smaller': 1, 'just': 1, 'wall': 1, 'is': 1, 'it': 2, 'looks': 1, 'what': 1, 'measurements': 1, 'was': 2, 'nice': 1, 'that': 1, 'but': 1, 'not': 1, 'bit': 1, 'than': 1, 'a': 1, 'on': 1, 'great': 1, 'i': 1, 'fault': 1, 'taking': 1, 'thought': 1, 'the': 1, 'my': 2}, {'and': 2, 'old': 1, 'significantly': 1, 'we': 2, 'son': 1, 'high': 1, 'as': 1, 'are': 1, 'year': 1, 'seem': 1, 'open': 4, 'their': 1, 'size': 1, 'bought': 1, 'given': 1, 'hasnt': 1, 'for': 1, 'needed': 1, 'that': 1, 'able': 1, 'how': 1, 'only': 1, 'safety': 1, 'normal': 1, '6': 1, 'pins': 3, 'new': 1, 'learned': 1, 'has': 1, 'was': 2, 'more': 2, 'them': 1, 'his': 1, 'to': 4, 'though': 1, 'price': 1, 'time': 1, 'use': 1, 'break': 1, 'broken': 1, 'bit': 1, 'one': 1, 'than': 1, 'he': 2, 'a': 1, 'on': 1, 'autistic': 1, 'package': 1, 'i': 1, 'of': 2, 'sturdy': 1, 'shipping': 1, 'or': 1, 'recall': 1, 'these': 1, 'reasonable': 1, 'night': 1, 'the': 4, 'once': 1, 'my': 1, 'side': 1, 'clothes': 1}, {'and': 1, 'be': 1, 'used': 1, 'fineheavy': 1, 'to': 1, 'these': 1, 'in': 1, 'qualityworked': 1, 'needed': 1, 'as': 1, 'good': 1, 'no': 1, 'way': 1, 'others': 1, 'need': 1, 'dutyable': 1, 'my': 1, 'any': 1, 'filled': 1, 'were': 1}, {'and': 1, 'a': 3, 'great': 2, 'pin': 1, 'for': 1, 'that': 1, 'lots': 1, 'of': 1, 'colors': 1, 'bargain': 1, 'to': 1, 'bright': 1, 'uses': 1, 'easy': 1, 'safety': 1, 'has': 1, 'with': 1, 'find': 1, 'dozen': 1}, {'and': 1, 'baby': 1, 'are': 2, 'in': 1, 'thick': 1, 'little': 1, 'fabric': 1, 'no': 2, 'fortunately': 1, 'there': 1, 'to': 1, 'flimsy': 1, 'attractive': 1, 'pins': 2, 'was': 2, 'them': 1, 'used': 1, 'received': 1, 'diaper': 1, 'not': 1, 'hold': 1, 'on': 2, 'did': 1, 'involved': 1, 'metal': 1, 'up': 1, 'i': 2, 'while': 1, 'so': 1, 'the': 4, 'stuck': 1}, {'honduras': 2, 'is': 1, 'it': 1, 'kits': 1, 'have': 1, 'in': 2, 'our': 1, 'find': 1, 'to': 3, '34pampers34': 1, '34disposable34': 1, 'also': 1, 'pins': 2, 'sent': 2, 'difficult': 1, 'do': 1, 'we': 2, 'missionaries': 1, 'diapers': 1, 'cloth': 1, 'diaper': 2, 'they': 2, 'not': 1, 'hold': 1, 'with': 1, 'appreciated': 1, 'went': 1, 'these': 1, 'age': 1, 'the': 3}, {'and': 3, 'dressmaker': 1, 'pin': 1, 'up34': 1, 'theryre': 1, 'idea': 1, 'tended': 1, 'one': 1, 'staying': 1, 'course': 1, 'through': 2, 'have': 1, 'during': 1, 'open': 2, 'your': 1, 'little': 1, 'working': 1, 'needed': 1, 'since': 1, 'wash': 2, 'been': 1, 'yet': 1, 'to': 4, 'recommended': 1, 'suggested': 1, 'pins': 3, 'perfectly': 1, 'was': 2, 'do': 1, 'them': 1, 'tried': 1, 'get': 1, 'never': 1, 'but': 3, 'it': 1, 'we': 2, 'socks': 2, 'they': 2, 'using': 1, 'brass': 1, 'years': 1, 'cycle': 1, 'tricky': 1, 'that': 1, 'has': 1, 'washing': 1, 'like': 1, 'lost': 1, 'wife': 1, 'i': 2, 'of': 2, 'up': 1, 'together': 2, 'keep': 1, 'matter': 1, 'a': 1, '34friended': 1, 'can': 1, 'many': 1, 'the': 4, 'my': 2, 'fact': 1, 'diaper': 2}, {'and': 4, 'the': 11, 'before': 1, 'dont': 1, 'just': 2, 'sock': 1, 'into': 1, 'each': 1, 'am': 1, 'idea': 1, 'socks': 6, 'one': 1, 'feet': 1, 'as': 2, 'done': 1, 'dried': 1, 'have': 1, 'reviewer': 1, 'my': 2, 'still': 1, 'saved': 1, 'matching': 1, 'out': 1, 'are': 2, 'reviews': 1, 'use': 1, 'pin': 2, 'for': 1, 'open': 1, 'come': 1, 'noted': 1, 'had': 1, 'by': 1, 'to': 2, 'another': 1, 'of': 4, 'lot': 1, 'pins': 1, 'washer': 1, 'has': 1, 'hamper': 2, 'dry': 2, 'life': 1, 'read': 1, 'shelf': 1, 'it': 2, 'after': 1, 'hang': 2, 'great': 2, 'here': 1, 'stay': 1, 'them': 1, 'mismatched': 1, 'they': 2, 'put': 1, 'line': 2, 'now': 1, 'with': 2, 'problem': 1, 'glad': 1, 'clothespins': 1, 'a': 3, 'on': 6, 'about': 1, 'washing': 1, 'lost': 1, 'this': 2, 'wish': 1, 'these': 1, 'side': 1, 'leave': 1, 'i': 7, 'without': 1, 'dirty': 1, 'time': 1, 'grab': 1, 'whole': 1, 'or': 1, 'once': 1}, {'all': 1, 'old': 1, 'is': 1, 'hard': 1, 'it': 1, 'through': 1, 'at': 1, 'have': 1, 'still': 1, 'thicker': 1, 'fabric': 1, 'would': 1, 'to': 1, 'which': 1, 'recommend': 1, 'pins': 1, 'steel': 1, 'very': 1, 'part': 1, 'diaper': 1, 'not': 2, 'strong': 1, 'a': 1, 'unlike': 1, 'i': 1, 'work': 1, 'the': 2}, {'sadand': 1, 'overpriced': 1, 'pinsturns': 1, 'am': 1, 'back': 1, 'really': 1, 'are': 2, 'have': 1, 'in': 1, 'should': 1, 'dozen': 1, 'thought': 1, 'use': 1, 'pictureas': 1, 'there': 1, 'when': 1, 'mark': 1, 'to': 2, 'only': 2, 'going': 1, 'safety': 1, 'pins': 2, 'out': 1, 'was': 1, 'be': 1, 'them': 1, 'that': 1, 'regular': 1, 'they': 1, 'crochet': 1, 'a': 1, '10': 1, 'getting': 1, 'i': 8, 'yarn': 1, 'think': 1, 'will': 1, 'so': 1, 'the': 2, 'counted': 1}, {'because': 1, 'tabs': 1, 'is': 1, 'am': 1, 'them': 1, 'doesnt': 1, 'through': 2, 'bend': 1, 'sharp': 1, 'said': 1, 'anymore': 1, 'which': 1, 'dislike': 1, 'easier': 1, 'ends': 1, 'pain': 1, 'that': 2, 'pushing': 1, 'diapers': 2, 'velcro': 2, 'sides': 1, 'a': 1, 'on': 1, 'pierce': 1, 'like': 1, 'older': 1, 'i': 1, 'work': 1, 'the': 2, 'my': 2}, {'and': 1, 'right': 1, 'bends': 1, 'color': 1, 'is': 1, 'am': 2, 'as': 2, 'are': 1, 'for': 1, 'expected': 1, 'happy': 1, 'steel': 1, 'material': 1, 'easily': 1, 'needle': 1, 'diapers': 1, 'but': 1, 'not': 2, 'strong': 1, 'with': 1, 'a': 1, 'on': 1, 'i': 3, 'dog': 1, 'bed': 1, 'pinning': 1, 'these': 2, 'so': 1, 'the': 3}, {'a': 1, 'locally': 1, 'useful': 1, 'item': 1, 'this': 1, 'hard': 1, 'is': 1, 'no': 1, 'matter': 1, 'to': 2, 'purpose': 1, 'have': 1, 'pins': 1, 'the': 1, 'diaper': 1, 'find': 1, 'are': 1}, {'all': 1, 'picture': 2, 'dont': 1, 'just': 1, 'be': 1, 'wall': 1, 'am': 1, 'it': 6, 'an': 4, 'put': 1, 'as': 3, 'doesnt': 1, 'design': 1, 'numbers': 1, 'have': 1, 'sense': 2, 'seen': 1, 'any': 1, 'difference': 1, 'to': 3, 'make': 2, 'give': 1, 'had': 2, 'actually': 1, 'start': 1, '2': 1, 'actual': 1, 'way': 1, 'you': 2, 'was': 1, 'sort': 1, 'a': 1, 'far': 1, 'peeled': 1, 'pleased': 1, 'free': 1, 'hand': 1, 'compared': 1, 'putting': 1, 'they': 1, 'half': 1, 'not': 1, 'branches': 1, 'hold': 1, 'with': 2, 'weeks': 1, 'bigger': 1, 'ago': 1, 'about': 1, 'made': 1, 'off': 1, 'i': 4, 'of': 1, 'could': 1, 'instruction': 1, 'up': 3, 'together': 1, 'aligned': 1, 'so': 1, 'wish': 1, 'the': 5, 'my': 1, 'at': 1}, {'these': 1, 'them': 1, 'peel': 1, 'to': 3, 'wall': 2, 'soon': 1, 'start': 1, 'as': 2, 'stick': 2, 'they': 1, 'not': 1, 'the': 2, 'you': 1, 'do': 1}, {'all': 1, 'money': 1, 'into': 1, 'back': 1, 'pieces': 1, 'wallvery': 1, 'ended': 1, 'disappointing': 1, 'girls': 1, 'at': 1, 'bedroom': 2, 'my': 1, 'glue': 1, 'for': 1, 'floor': 1, 'not': 1, 'when': 1, 'to': 3, 'got': 1, 'waste': 1, 'was': 2, 'excited': 1, 'product': 1, 'get': 1, 'very': 2, 'it': 3, 'every': 1, 'baby': 1, 'picking': 1, 'sticky': 1, 'super': 1, 'is': 1, 'on': 1, 'off': 1, 'wouldnt': 1, 'this': 1, 'of': 1, 'up': 2, 'walked': 1, 'having': 1, 'i': 4, 'so': 1, 'time': 2, 'the': 5, 'frustrating': 1, 'or': 1}, {'beautiful': 1, 'heart': 1, 'because': 1, 'ordered': 1, 'undoer': 1, 'just': 1, 'photo': 1, 'fathers': 1, 'am': 1, 'it': 4, 'lovely': 1, 'as': 1, 'in': 3, 'our': 2, 'novena': 1, 'knots': 1, 'again': 1, 'strong': 1, 'pope': 2, 'would': 1, 'to': 1, 'giving': 1, 'disappointed': 1, 'beat': 1, 'whom': 1, 'between': 1, 'i': 4, 'has': 1, 'was': 1, 'knotted': 1, 'friend': 2, 'buy': 1, 'with': 2, 'francis': 2, 'recommend': 1, 'blessed': 1, 'not': 1, 'along': 1, 'copy': 1, 'lady': 1, 'by': 1, 'is': 2, 'a': 4, 'and': 3, 'made': 1, 'rosary': 2, 'for': 2, 'this': 3, 'of': 3, 'untier': 1, 'looked': 1, 'crystal': 1, 'definitely': 1, 'the': 3, 'my': 1, 'or': 1, 'devotion': 1}, {'and': 2, 'all': 1, 'right': 1, 'just': 1, 'scapular': 1, 'some': 1, 'an': 1, 'quality': 1, 'for': 2, 'to': 1, 'more': 1, 'wearing': 1, 'brown': 1, 'around': 1, 'price': 1, 'blessing': 1, 'excellent': 1, 'such': 1, 'precious': 1, 'a': 1, 'neck': 1, 'value': 1, 'item': 1, 'the': 5, 'makes': 1, 'or': 1, 'orattaching': 1}, {'and': 3, 'beautiful': 2, 'watching': 1, 'love': 1, 'dont': 1, 'recognize': 1, 'beware': 1, 'am': 3, 'rightbuyer': 1, 'an': 1, 'down': 1, 'as': 2, 'through': 1, 'fast': 1, 'have': 1, 'still': 1, 'if': 3, 'even': 1, 'slow': 1, 'i': 10, 'would': 2, 'there': 2, 'had': 3, 'been': 2, 'for': 1, 'to': 5, 'finally': 1, 'music': 4, 'too': 1, 'way': 2, 'get': 1, 'was': 1, 'tell': 1, 'happy': 2, 'be': 1, 'play': 1, 'someone': 1, 'song': 2, 'very': 1, 'great': 1, 'but': 1, 'it': 4, 'me': 1, 'box': 2, 'know': 1, 'not': 3, 'with': 1, 'is': 4, 'a': 2, 'nativity': 3, 'about': 1, 'look': 1, 'excuse': 1, 'this': 1, 'of': 1, 'months': 1, 'excited': 2, 'item': 1, 'so': 3, 'wish': 1, 'the': 7, '2500': 1, 'spend': 1, 'once': 1}, {'and': 2, 'slid': 1, 'love': 1, 'they': 4, 'over': 1, 'am': 1, 'satisfied': 1, 'hair': 1, 'snug': 1, 'however': 1, 'are': 2, 'have': 2, 'tough': 2, 'pleased': 1, 'if': 1, 'fit': 2, 'to': 3, 'bangles': 1, 'bangle': 1, 'had': 1, 'fast': 1, 'also': 1, 'fitting': 1, 'whew': 1, 'got': 1, 'size': 1, 'was': 1, 'product': 2, 'get': 1, 'overall': 1, 'them': 1, 'but': 2, 'stay': 1, 'wrist': 1, 'adult': 1, 'kid': 1, 'hands': 1, 'bit': 1, 'lotion': 1, 'with': 3, 'bigger': 1, 'like': 1, 'a': 3, 'on': 3, 'for': 1, 'wouldnt': 1, 'i': 5, 'shipping': 1, 'large': 1, 'these': 1, 'hand': 2, 'were': 1, 'small': 3, 'the': 3, 'my': 1}, {'and': 2, 'set': 1, 'old': 1, 'for': 1, 'cooking': 1, '2': 1, 'lot': 1, 'has': 1, 'was': 1, 'granddaughter': 1, 'yr': 1, 'with': 1, 'a': 1, 'great': 1, 'this': 1, 'of': 1, 'pretend': 1, 'she': 1, 'fun': 1, 'the': 1, 'my': 1, 'playing': 1}, {'and': 1, 'useful': 1, 'awesome': 1, 'wash': 1, 'are': 1, 'also': 1, 'to': 1, 'much': 1, 'easy': 1, 'is': 1, 'them': 1, 'very': 2, 'price': 1, 'they': 1, 'bibs': 1, 'friends': 1, 'those': 1, 'dry': 1, 'like': 2, 'i': 1, 'the': 1, 'my': 1}, {'beautiful': 1, 'old': 1, 'when': 1, 'is': 1, 'wash': 1, 'good': 1, 'in': 1, 'messy': 1, 'provided': 1, '20': 1, 'for': 1, 'front': 1, 'missing': 1, 'curls': 1, 'fingers': 1, 'to': 2, 'protections': 1, 'too': 1, 'easy': 1, 'elbows': 1, 'his': 2, 'boy': 1, 'very': 1, 'who': 1, 'pasta': 2, 'pocket': 1, 'marinara': 1, 'mouth': 1, 'fall': 1, 'eaters': 1, 'bibs': 2, 'with': 1, 'eat': 1, 'a': 1, 'loved': 1, 'daughter': 1, 'grandson': 1, 'this': 2, 'months': 1, 'loves': 1, 'the': 2, 'my': 2, 'or': 1}, {'perfect': 1, 'and': 1, 'this': 2, 'for': 1, 'cute': 1, 'i': 1, 'tree': 1, 'is': 2, 'ornament': 1, 'it': 1, 'collection': 1, 'nativity': 2, 'to': 2, 'cant': 1, 'add': 1, 'a': 1, 'ornaments': 1, 'collect': 1, 'such': 1, 'my': 2, 'wait': 1}, ... ]"
      ]
     },
     "execution_count": 6,
     "metadata": {},
     "output_type": "execute_result"
    }
   ],
   "source": [
    "products['word_count']"
   ]
  },
  {
   "cell_type": "markdown",
   "metadata": {},
   "source": [
    "Now, let us explore what the sample example above looks like after these 2 transformations. Here, each entry in the **word_count** column is a dictionary where the key is the word and the value is a count of the number of times the word occurs."
   ]
  },
  {
   "cell_type": "code",
   "execution_count": 7,
   "metadata": {
    "collapsed": false
   },
   "outputs": [
    {
     "data": {
      "text/plain": [
       "{'a': 1, 'favorite': 1, 'house': 1, 'in': 1, 'our': 1}"
      ]
     },
     "execution_count": 7,
     "metadata": {},
     "output_type": "execute_result"
    }
   ],
   "source": [
    "products[269]['word_count']"
   ]
  },
  {
   "cell_type": "markdown",
   "metadata": {},
   "source": [
    "## Extract sentiments\n",
    "\n",
    "We will **ignore** all reviews with *rating = 3*, since they tend to have a neutral sentiment."
   ]
  },
  {
   "cell_type": "code",
   "execution_count": 7,
   "metadata": {
    "collapsed": false
   },
   "outputs": [
    {
     "data": {
      "text/plain": [
       "166752"
      ]
     },
     "execution_count": 7,
     "metadata": {},
     "output_type": "execute_result"
    }
   ],
   "source": [
    "products = products[products['rating'] != 3]\n",
    "len(products)"
   ]
  },
  {
   "cell_type": "markdown",
   "metadata": {},
   "source": [
    "Now, we will assign reviews with a rating of 4 or higher to be *positive* reviews, while the ones with rating of 2 or lower are *negative*. For the sentiment column, we use +1 for the positive class label and -1 for the negative class label."
   ]
  },
  {
   "cell_type": "code",
   "execution_count": 8,
   "metadata": {
    "collapsed": false
   },
   "outputs": [
    {
     "data": {
      "text/html": [
       "<div style=\"max-height:1000px;max-width:1500px;overflow:auto;\"><table frame=\"box\" rules=\"cols\">\n",
       "    <tr>\n",
       "        <th style=\"padding-left: 1em; padding-right: 1em; text-align: center\">name</th>\n",
       "        <th style=\"padding-left: 1em; padding-right: 1em; text-align: center\">review</th>\n",
       "        <th style=\"padding-left: 1em; padding-right: 1em; text-align: center\">rating</th>\n",
       "        <th style=\"padding-left: 1em; padding-right: 1em; text-align: center\">word_count</th>\n",
       "        <th style=\"padding-left: 1em; padding-right: 1em; text-align: center\">sentiment</th>\n",
       "    </tr>\n",
       "    <tr>\n",
       "        <td style=\"padding-left: 1em; padding-right: 1em; text-align: center; vertical-align: top\">Planetwise Wipe Pouch</td>\n",
       "        <td style=\"padding-left: 1em; padding-right: 1em; text-align: center; vertical-align: top\">it came early and was not<br>disappointed. i love ...</td>\n",
       "        <td style=\"padding-left: 1em; padding-right: 1em; text-align: center; vertical-align: top\">5.0</td>\n",
       "        <td style=\"padding-left: 1em; padding-right: 1em; text-align: center; vertical-align: top\">{'and': 3, 'love': 1,<br>'it': 3, 'highly': 1, ...</td>\n",
       "        <td style=\"padding-left: 1em; padding-right: 1em; text-align: center; vertical-align: top\">1</td>\n",
       "    </tr>\n",
       "    <tr>\n",
       "        <td style=\"padding-left: 1em; padding-right: 1em; text-align: center; vertical-align: top\">Annas Dream Full Quilt<br>with 2 Shams ...</td>\n",
       "        <td style=\"padding-left: 1em; padding-right: 1em; text-align: center; vertical-align: top\">Very soft and comfortable<br>and warmer than it ...</td>\n",
       "        <td style=\"padding-left: 1em; padding-right: 1em; text-align: center; vertical-align: top\">5.0</td>\n",
       "        <td style=\"padding-left: 1em; padding-right: 1em; text-align: center; vertical-align: top\">{'and': 2, 'quilt': 1,<br>'it': 1, 'comfortable': ...</td>\n",
       "        <td style=\"padding-left: 1em; padding-right: 1em; text-align: center; vertical-align: top\">1</td>\n",
       "    </tr>\n",
       "    <tr>\n",
       "        <td style=\"padding-left: 1em; padding-right: 1em; text-align: center; vertical-align: top\">Stop Pacifier Sucking<br>without tears with ...</td>\n",
       "        <td style=\"padding-left: 1em; padding-right: 1em; text-align: center; vertical-align: top\">This is a product well<br>worth the purchase.  I ...</td>\n",
       "        <td style=\"padding-left: 1em; padding-right: 1em; text-align: center; vertical-align: top\">5.0</td>\n",
       "        <td style=\"padding-left: 1em; padding-right: 1em; text-align: center; vertical-align: top\">{'and': 3, 'ingenious':<br>1, 'love': 2, 'what': 1, ...</td>\n",
       "        <td style=\"padding-left: 1em; padding-right: 1em; text-align: center; vertical-align: top\">1</td>\n",
       "    </tr>\n",
       "    <tr>\n",
       "        <td style=\"padding-left: 1em; padding-right: 1em; text-align: center; vertical-align: top\">Stop Pacifier Sucking<br>without tears with ...</td>\n",
       "        <td style=\"padding-left: 1em; padding-right: 1em; text-align: center; vertical-align: top\">All of my kids have cried<br>non-stop when I tried to ...</td>\n",
       "        <td style=\"padding-left: 1em; padding-right: 1em; text-align: center; vertical-align: top\">5.0</td>\n",
       "        <td style=\"padding-left: 1em; padding-right: 1em; text-align: center; vertical-align: top\">{'and': 2, 'all': 2,<br>'help': 1, 'cried': 1, ...</td>\n",
       "        <td style=\"padding-left: 1em; padding-right: 1em; text-align: center; vertical-align: top\">1</td>\n",
       "    </tr>\n",
       "    <tr>\n",
       "        <td style=\"padding-left: 1em; padding-right: 1em; text-align: center; vertical-align: top\">Stop Pacifier Sucking<br>without tears with ...</td>\n",
       "        <td style=\"padding-left: 1em; padding-right: 1em; text-align: center; vertical-align: top\">When the Binky Fairy came<br>to our house, we didn't ...</td>\n",
       "        <td style=\"padding-left: 1em; padding-right: 1em; text-align: center; vertical-align: top\">5.0</td>\n",
       "        <td style=\"padding-left: 1em; padding-right: 1em; text-align: center; vertical-align: top\">{'and': 2, 'this': 2,<br>'her': 1, 'help': 2, ...</td>\n",
       "        <td style=\"padding-left: 1em; padding-right: 1em; text-align: center; vertical-align: top\">1</td>\n",
       "    </tr>\n",
       "    <tr>\n",
       "        <td style=\"padding-left: 1em; padding-right: 1em; text-align: center; vertical-align: top\">A Tale of Baby's Days<br>with Peter Rabbit ...</td>\n",
       "        <td style=\"padding-left: 1em; padding-right: 1em; text-align: center; vertical-align: top\">Lovely book, it's bound<br>tightly so you may no ...</td>\n",
       "        <td style=\"padding-left: 1em; padding-right: 1em; text-align: center; vertical-align: top\">4.0</td>\n",
       "        <td style=\"padding-left: 1em; padding-right: 1em; text-align: center; vertical-align: top\">{'shop': 1, 'noble': 1,<br>'is': 1, 'it': 1, 'as': ...</td>\n",
       "        <td style=\"padding-left: 1em; padding-right: 1em; text-align: center; vertical-align: top\">1</td>\n",
       "    </tr>\n",
       "    <tr>\n",
       "        <td style=\"padding-left: 1em; padding-right: 1em; text-align: center; vertical-align: top\">Baby Tracker&amp;reg; - Daily<br>Childcare Journal, ...</td>\n",
       "        <td style=\"padding-left: 1em; padding-right: 1em; text-align: center; vertical-align: top\">Perfect for new parents.<br>We were able to keep ...</td>\n",
       "        <td style=\"padding-left: 1em; padding-right: 1em; text-align: center; vertical-align: top\">5.0</td>\n",
       "        <td style=\"padding-left: 1em; padding-right: 1em; text-align: center; vertical-align: top\">{'and': 2, 'all': 1,<br>'right': 1, 'had': 1, ...</td>\n",
       "        <td style=\"padding-left: 1em; padding-right: 1em; text-align: center; vertical-align: top\">1</td>\n",
       "    </tr>\n",
       "    <tr>\n",
       "        <td style=\"padding-left: 1em; padding-right: 1em; text-align: center; vertical-align: top\">Baby Tracker&amp;reg; - Daily<br>Childcare Journal, ...</td>\n",
       "        <td style=\"padding-left: 1em; padding-right: 1em; text-align: center; vertical-align: top\">A friend of mine pinned<br>this product on Pinte ...</td>\n",
       "        <td style=\"padding-left: 1em; padding-right: 1em; text-align: center; vertical-align: top\">5.0</td>\n",
       "        <td style=\"padding-left: 1em; padding-right: 1em; text-align: center; vertical-align: top\">{'and': 1, 'fantastic':<br>1, 'help': 1, 'give': 1, ...</td>\n",
       "        <td style=\"padding-left: 1em; padding-right: 1em; text-align: center; vertical-align: top\">1</td>\n",
       "    </tr>\n",
       "    <tr>\n",
       "        <td style=\"padding-left: 1em; padding-right: 1em; text-align: center; vertical-align: top\">Baby Tracker&amp;reg; - Daily<br>Childcare Journal, ...</td>\n",
       "        <td style=\"padding-left: 1em; padding-right: 1em; text-align: center; vertical-align: top\">This has been an easy way<br>for my nanny to record ...</td>\n",
       "        <td style=\"padding-left: 1em; padding-right: 1em; text-align: center; vertical-align: top\">4.0</td>\n",
       "        <td style=\"padding-left: 1em; padding-right: 1em; text-align: center; vertical-align: top\">{'all': 1, 'standarad':<br>1, 'another': 1, 'when': ...</td>\n",
       "        <td style=\"padding-left: 1em; padding-right: 1em; text-align: center; vertical-align: top\">1</td>\n",
       "    </tr>\n",
       "    <tr>\n",
       "        <td style=\"padding-left: 1em; padding-right: 1em; text-align: center; vertical-align: top\">Baby Tracker&amp;reg; - Daily<br>Childcare Journal, ...</td>\n",
       "        <td style=\"padding-left: 1em; padding-right: 1em; text-align: center; vertical-align: top\">I love this journal and<br>our nanny uses it ...</td>\n",
       "        <td style=\"padding-left: 1em; padding-right: 1em; text-align: center; vertical-align: top\">4.0</td>\n",
       "        <td style=\"padding-left: 1em; padding-right: 1em; text-align: center; vertical-align: top\">{'all': 2, 'nannys': 1,<br>'just': 1, 'food': 1, ...</td>\n",
       "        <td style=\"padding-left: 1em; padding-right: 1em; text-align: center; vertical-align: top\">1</td>\n",
       "    </tr>\n",
       "</table>\n",
       "[166752 rows x 5 columns]<br/>Note: Only the head of the SFrame is printed.<br/>You can use print_rows(num_rows=m, num_columns=n) to print more rows and columns.\n",
       "</div>"
      ],
      "text/plain": [
       "Columns:\n",
       "\tname\tstr\n",
       "\treview\tstr\n",
       "\trating\tfloat\n",
       "\tword_count\tdict\n",
       "\tsentiment\tint\n",
       "\n",
       "Rows: 166752\n",
       "\n",
       "Data:\n",
       "+-------------------------------+-------------------------------+--------+\n",
       "|              name             |             review            | rating |\n",
       "+-------------------------------+-------------------------------+--------+\n",
       "|     Planetwise Wipe Pouch     | it came early and was not ... |  5.0   |\n",
       "| Annas Dream Full Quilt wit... | Very soft and comfortable ... |  5.0   |\n",
       "| Stop Pacifier Sucking with... | This is a product well wor... |  5.0   |\n",
       "| Stop Pacifier Sucking with... | All of my kids have cried ... |  5.0   |\n",
       "| Stop Pacifier Sucking with... | When the Binky Fairy came ... |  5.0   |\n",
       "| A Tale of Baby's Days with... | Lovely book, it's bound ti... |  4.0   |\n",
       "| Baby Tracker&reg; - Daily ... | Perfect for new parents. W... |  5.0   |\n",
       "| Baby Tracker&reg; - Daily ... | A friend of mine pinned th... |  5.0   |\n",
       "| Baby Tracker&reg; - Daily ... | This has been an easy way ... |  4.0   |\n",
       "| Baby Tracker&reg; - Daily ... | I love this journal and ou... |  4.0   |\n",
       "+-------------------------------+-------------------------------+--------+\n",
       "+-------------------------------+-----------+\n",
       "|           word_count          | sentiment |\n",
       "+-------------------------------+-----------+\n",
       "| {'and': 3, 'love': 1, 'it'... |     1     |\n",
       "| {'and': 2, 'quilt': 1, 'it... |     1     |\n",
       "| {'and': 3, 'ingenious': 1,... |     1     |\n",
       "| {'and': 2, 'all': 2, 'help... |     1     |\n",
       "| {'and': 2, 'this': 2, 'her... |     1     |\n",
       "| {'shop': 1, 'noble': 1, 'i... |     1     |\n",
       "| {'and': 2, 'all': 1, 'righ... |     1     |\n",
       "| {'and': 1, 'fantastic': 1,... |     1     |\n",
       "| {'all': 1, 'standarad': 1,... |     1     |\n",
       "| {'all': 2, 'nannys': 1, 'j... |     1     |\n",
       "+-------------------------------+-----------+\n",
       "[166752 rows x 5 columns]\n",
       "Note: Only the head of the SFrame is printed.\n",
       "You can use print_rows(num_rows=m, num_columns=n) to print more rows and columns."
      ]
     },
     "execution_count": 8,
     "metadata": {},
     "output_type": "execute_result"
    }
   ],
   "source": [
    "products['sentiment'] = products['rating'].apply(lambda rating : +1 if rating > 3 else -1)\n",
    "products"
   ]
  },
  {
   "cell_type": "markdown",
   "metadata": {},
   "source": [
    "Now, we can see that the dataset contains an extra column called **sentiment** which is either positive (+1) or negative (-1)."
   ]
  },
  {
   "cell_type": "markdown",
   "metadata": {},
   "source": [
    "## Split data into training and test sets"
   ]
  },
  {
   "cell_type": "markdown",
   "metadata": {},
   "source": [
    "Let's perform a train/test split with 80% of the data in the training set and 20% of the data in the test set. We use `seed=1` so that everyone gets the same result."
   ]
  },
  {
   "cell_type": "code",
   "execution_count": 9,
   "metadata": {
    "collapsed": false
   },
   "outputs": [
    {
     "name": "stdout",
     "output_type": "stream",
     "text": [
      "133416\n",
      "33336\n"
     ]
    }
   ],
   "source": [
    "train_data, test_data = products.random_split(.8, seed=1)\n",
    "print len(train_data)\n",
    "print len(test_data)"
   ]
  },
  {
   "cell_type": "markdown",
   "metadata": {},
   "source": [
    "# Train a sentiment classifier with logistic regression\n",
    "\n",
    "We will now use logistic regression to create a sentiment classifier on the training data. This model will use the column **word_count** as a feature and the column **sentiment** as the target. We will use `validation_set=None` to obtain same results as everyone else.\n",
    "\n",
    "**Note:** This line may take 1-2 minutes."
   ]
  },
  {
   "cell_type": "code",
   "execution_count": 10,
   "metadata": {
    "collapsed": false
   },
   "outputs": [],
   "source": [
    "sentiment_model = graphlab.logistic_classifier.create(train_data,\n",
    "                                                      target = 'sentiment',\n",
    "                                                      features=['word_count'],\n",
    "                                                      validation_set=None)"
   ]
  },
  {
   "cell_type": "code",
   "execution_count": 11,
   "metadata": {
    "collapsed": false,
    "scrolled": true
   },
   "outputs": [
    {
     "data": {
      "text/plain": [
       "Class                         : LogisticClassifier\n",
       "\n",
       "Schema\n",
       "------\n",
       "Number of coefficients        : 121713\n",
       "Number of examples            : 133416\n",
       "Number of classes             : 2\n",
       "Number of feature columns     : 1\n",
       "Number of unpacked features   : 121712\n",
       "\n",
       "Hyperparameters\n",
       "---------------\n",
       "L1 penalty                    : 0.0\n",
       "L2 penalty                    : 0.01\n",
       "\n",
       "Training Summary\n",
       "----------------\n",
       "Solver                        : auto\n",
       "Solver iterations             : 6\n",
       "Solver status                 : TERMINATED: Terminated due to numerical difficulties.\n",
       "Training time (sec)           : 4.4827\n",
       "\n",
       "Settings\n",
       "--------\n",
       "Log-likelihood                : inf\n",
       "\n",
       "Highest Positive Coefficients\n",
       "-----------------------------\n",
       "word_count[mobileupdate]      : 41.9847\n",
       "word_count[placeid]           : 41.7354\n",
       "word_count[labelbox]          : 41.151\n",
       "word_count[httpwwwamazoncomreviewrhgg6qp7tdnhbrefcmcrprcmtieutf8asinb00318cla0nodeid]: 40.0454\n",
       "word_count[knobskeeping]      : 36.2091\n",
       "\n",
       "Lowest Negative Coefficients\n",
       "----------------------------\n",
       "word_count[probelm]           : -44.9283\n",
       "word_count[impulsejeep]       : -43.081\n",
       "word_count[infantsyoung]      : -39.5945\n",
       "word_count[cutereditafter]    : -35.6875\n",
       "word_count[avacado]           : -35.0542"
      ]
     },
     "execution_count": 11,
     "metadata": {},
     "output_type": "execute_result"
    }
   ],
   "source": [
    "sentiment_model"
   ]
  },
  {
   "cell_type": "markdown",
   "metadata": {},
   "source": [
    "**Aside**. You may get an warning to the effect of \"Terminated due to numerical difficulties --- this model may not be ideal\". It means that the quality metric (to be covered in Module 3) failed to improve in the last iteration of the run. The difficulty arises as the sentiment model puts too much weight on extremely rare words. A way to rectify this is to apply regularization, to be covered in Module 4. Regularization lessens the effect of extremely rare words. For the purpose of this assignment, however, please proceed with the model above."
   ]
  },
  {
   "cell_type": "markdown",
   "metadata": {},
   "source": [
    "Now that we have fitted the model, we can extract the weights (coefficients) as an SFrame as follows:"
   ]
  },
  {
   "cell_type": "code",
   "execution_count": 14,
   "metadata": {
    "collapsed": false
   },
   "outputs": [
    {
     "data": {
      "text/plain": [
       "['name', 'index', 'class', 'value', 'stderr']"
      ]
     },
     "execution_count": 14,
     "metadata": {},
     "output_type": "execute_result"
    }
   ],
   "source": [
    "weights = sentiment_model.coefficients\n",
    "weights.column_names()"
   ]
  },
  {
   "cell_type": "markdown",
   "metadata": {},
   "source": [
    "There are a total of `121713` coefficients in the model. Recall from the lecture that positive weights $w_j$ correspond to weights that cause positive sentiment, while negative weights correspond to negative sentiment. \n",
    "\n",
    "Fill in the following block of code to calculate how many *weights* are positive ( >= 0). (**Hint**: The `'value'` column in SFrame *weights* must be positive ( >= 0))."
   ]
  },
  {
   "cell_type": "code",
   "execution_count": 13,
   "metadata": {
    "collapsed": false
   },
   "outputs": [
    {
     "name": "stdout",
     "output_type": "stream",
     "text": [
      "Number of positive weights: 68419 \n",
      "Number of negative weights: 53294 \n"
     ]
    }
   ],
   "source": [
    "num_positive_weights = weights['value'].apply(lambda x : 1 if x >= 0 else 0).sum()\n",
    "num_negative_weights = weights['value'].apply(lambda x : 1 if x < 0 else 0).sum()\n",
    "\n",
    "print \"Number of positive weights: %s \" % num_positive_weights\n",
    "print \"Number of negative weights: %s \" % num_negative_weights"
   ]
  },
  {
   "cell_type": "markdown",
   "metadata": {},
   "source": [
    "**Quiz question:** How many weights are >= 0?"
   ]
  },
  {
   "cell_type": "markdown",
   "metadata": {},
   "source": [
    "## Making predictions with logistic regression\n",
    "\n",
    "Now that a model is trained, we can make predictions on the **test data**. In this section, we will explore this in the context of 3 examples in the test dataset.  We refer to this set of 3 examples as the **sample_test_data**."
   ]
  },
  {
   "cell_type": "code",
   "execution_count": 15,
   "metadata": {
    "collapsed": false
   },
   "outputs": [
    {
     "name": "stdout",
     "output_type": "stream",
     "text": [
      "[5.0, 2.0, 1.0]\n"
     ]
    },
    {
     "data": {
      "text/html": [
       "<div style=\"max-height:1000px;max-width:1500px;overflow:auto;\"><table frame=\"box\" rules=\"cols\">\n",
       "    <tr>\n",
       "        <th style=\"padding-left: 1em; padding-right: 1em; text-align: center\">name</th>\n",
       "        <th style=\"padding-left: 1em; padding-right: 1em; text-align: center\">review</th>\n",
       "        <th style=\"padding-left: 1em; padding-right: 1em; text-align: center\">rating</th>\n",
       "        <th style=\"padding-left: 1em; padding-right: 1em; text-align: center\">word_count</th>\n",
       "        <th style=\"padding-left: 1em; padding-right: 1em; text-align: center\">sentiment</th>\n",
       "    </tr>\n",
       "    <tr>\n",
       "        <td style=\"padding-left: 1em; padding-right: 1em; text-align: center; vertical-align: top\">Our Baby Girl Memory Book</td>\n",
       "        <td style=\"padding-left: 1em; padding-right: 1em; text-align: center; vertical-align: top\">Absolutely love it and<br>all of the Scripture in ...</td>\n",
       "        <td style=\"padding-left: 1em; padding-right: 1em; text-align: center; vertical-align: top\">5.0</td>\n",
       "        <td style=\"padding-left: 1em; padding-right: 1em; text-align: center; vertical-align: top\">{'and': 2, 'all': 1,<br>'love': 1, 'purchased': ...</td>\n",
       "        <td style=\"padding-left: 1em; padding-right: 1em; text-align: center; vertical-align: top\">1</td>\n",
       "    </tr>\n",
       "    <tr>\n",
       "        <td style=\"padding-left: 1em; padding-right: 1em; text-align: center; vertical-align: top\">Wall Decor Removable<br>Decal Sticker - Colorful ...</td>\n",
       "        <td style=\"padding-left: 1em; padding-right: 1em; text-align: center; vertical-align: top\">Would not purchase again<br>or recommend. The decals ...</td>\n",
       "        <td style=\"padding-left: 1em; padding-right: 1em; text-align: center; vertical-align: top\">2.0</td>\n",
       "        <td style=\"padding-left: 1em; padding-right: 1em; text-align: center; vertical-align: top\">{'and': 1, 'would': 2,<br>'almost': 1, 'decals' ...</td>\n",
       "        <td style=\"padding-left: 1em; padding-right: 1em; text-align: center; vertical-align: top\">-1</td>\n",
       "    </tr>\n",
       "    <tr>\n",
       "        <td style=\"padding-left: 1em; padding-right: 1em; text-align: center; vertical-align: top\">New Style Trailing Cherry<br>Blossom Tree Decal ...</td>\n",
       "        <td style=\"padding-left: 1em; padding-right: 1em; text-align: center; vertical-align: top\">Was so excited to get<br>this product for my baby ...</td>\n",
       "        <td style=\"padding-left: 1em; padding-right: 1em; text-align: center; vertical-align: top\">1.0</td>\n",
       "        <td style=\"padding-left: 1em; padding-right: 1em; text-align: center; vertical-align: top\">{'all': 1, 'money': 1,<br>'into': 1, 'back': 1, ...</td>\n",
       "        <td style=\"padding-left: 1em; padding-right: 1em; text-align: center; vertical-align: top\">-1</td>\n",
       "    </tr>\n",
       "</table>\n",
       "[3 rows x 5 columns]<br/>\n",
       "</div>"
      ],
      "text/plain": [
       "Columns:\n",
       "\tname\tstr\n",
       "\treview\tstr\n",
       "\trating\tfloat\n",
       "\tword_count\tdict\n",
       "\tsentiment\tint\n",
       "\n",
       "Rows: 3\n",
       "\n",
       "Data:\n",
       "+-------------------------------+-------------------------------+--------+\n",
       "|              name             |             review            | rating |\n",
       "+-------------------------------+-------------------------------+--------+\n",
       "|   Our Baby Girl Memory Book   | Absolutely love it and all... |  5.0   |\n",
       "| Wall Decor Removable Decal... | Would not purchase again o... |  2.0   |\n",
       "| New Style Trailing Cherry ... | Was so excited to get this... |  1.0   |\n",
       "+-------------------------------+-------------------------------+--------+\n",
       "+-------------------------------+-----------+\n",
       "|           word_count          | sentiment |\n",
       "+-------------------------------+-----------+\n",
       "| {'and': 2, 'all': 1, 'love... |     1     |\n",
       "| {'and': 1, 'would': 2, 'al... |     -1    |\n",
       "| {'all': 1, 'money': 1, 'in... |     -1    |\n",
       "+-------------------------------+-----------+\n",
       "[3 rows x 5 columns]"
      ]
     },
     "execution_count": 15,
     "metadata": {},
     "output_type": "execute_result"
    }
   ],
   "source": [
    "sample_test_data = test_data[10:13]\n",
    "print sample_test_data['rating']\n",
    "sample_test_data"
   ]
  },
  {
   "cell_type": "markdown",
   "metadata": {},
   "source": [
    "Let's dig deeper into the first row of the **sample_test_data**. Here's the full review:"
   ]
  },
  {
   "cell_type": "code",
   "execution_count": 16,
   "metadata": {
    "collapsed": false
   },
   "outputs": [
    {
     "data": {
      "text/plain": [
       "'Absolutely love it and all of the Scripture in it.  I purchased the Baby Boy version for my grandson when he was born and my daughter-in-law was thrilled to receive the same book again.'"
      ]
     },
     "execution_count": 16,
     "metadata": {},
     "output_type": "execute_result"
    }
   ],
   "source": [
    "sample_test_data[0]['review']"
   ]
  },
  {
   "cell_type": "markdown",
   "metadata": {},
   "source": [
    "That review seems pretty positive.\n",
    "\n",
    "Now, let's see what the next row of the **sample_test_data** looks like. As we could guess from the sentiment (-1), the review is quite negative."
   ]
  },
  {
   "cell_type": "code",
   "execution_count": 17,
   "metadata": {
    "collapsed": false
   },
   "outputs": [
    {
     "data": {
      "text/plain": [
       "'Would not purchase again or recommend. The decals were thick almost plastic like and were coming off the wall as I was applying them! The would NOT stick! Literally stayed stuck for about 5 minutes then started peeling off.'"
      ]
     },
     "execution_count": 17,
     "metadata": {},
     "output_type": "execute_result"
    }
   ],
   "source": [
    "sample_test_data[1]['review']"
   ]
  },
  {
   "cell_type": "markdown",
   "metadata": {},
   "source": [
    "We will now make a **class** prediction for the **sample_test_data**. The `sentiment_model` should predict **+1** if the sentiment is positive and **-1** if the sentiment is negative. Recall from the lecture that the **score** (sometimes called **margin**) for the logistic regression model  is defined as:\n",
    "\n",
    "$$\n",
    "\\mbox{score}_i = \\mathbf{w}^T h(\\mathbf{x}_i)\n",
    "$$ \n",
    "\n",
    "where $h(\\mathbf{x}_i)$ represents the features for example $i$.  We will write some code to obtain the **scores** using GraphLab Create. For each row, the **score** (or margin) is a number in the range **[-inf, inf]**."
   ]
  },
  {
   "cell_type": "code",
   "execution_count": 18,
   "metadata": {
    "collapsed": false
   },
   "outputs": [
    {
     "name": "stdout",
     "output_type": "stream",
     "text": [
      "[6.734619727061156, -5.734130996761386, -14.668460404470235]\n"
     ]
    }
   ],
   "source": [
    "scores = sentiment_model.predict(sample_test_data, output_type='margin')\n",
    "print scores"
   ]
  },
  {
   "cell_type": "markdown",
   "metadata": {},
   "source": [
    "### Predicting sentiment\n",
    "\n",
    "These scores can be used to make class predictions as follows:\n",
    "\n",
    "$$\n",
    "\\hat{y} = \n",
    "\\left\\{\n",
    "\\begin{array}{ll}\n",
    "      +1 & \\mathbf{w}^T h(\\mathbf{x}_i) > 0 \\\\\n",
    "      -1 & \\mathbf{w}^T h(\\mathbf{x}_i) \\leq 0 \\\\\n",
    "\\end{array} \n",
    "\\right.\n",
    "$$\n",
    "\n",
    "Using scores, write code to calculate $\\hat{y}$, the class predictions:"
   ]
  },
  {
   "cell_type": "code",
   "execution_count": 19,
   "metadata": {
    "collapsed": false
   },
   "outputs": [],
   "source": [
    "predictions = scores.apply(lambda score: 1 if score > 0 else -1)"
   ]
  },
  {
   "cell_type": "code",
   "execution_count": 20,
   "metadata": {
    "collapsed": false
   },
   "outputs": [
    {
     "data": {
      "text/plain": [
       "dtype: int\n",
       "Rows: 3\n",
       "[1, -1, -1]"
      ]
     },
     "execution_count": 20,
     "metadata": {},
     "output_type": "execute_result"
    }
   ],
   "source": [
    "predictions"
   ]
  },
  {
   "cell_type": "markdown",
   "metadata": {},
   "source": [
    "Run the following code to verify that the class predictions obtained by your calculations are the same as that obtained from GraphLab Create."
   ]
  },
  {
   "cell_type": "code",
   "execution_count": 22,
   "metadata": {
    "collapsed": false
   },
   "outputs": [
    {
     "name": "stdout",
     "output_type": "stream",
     "text": [
      "Class predictions according to GraphLab Create:\n",
      "[1, -1, -1]\n"
     ]
    }
   ],
   "source": [
    "print \"Class predictions according to GraphLab Create:\" \n",
    "print sentiment_model.predict(sample_test_data)"
   ]
  },
  {
   "cell_type": "markdown",
   "metadata": {},
   "source": [
    "**Checkpoint**: Make sure your class predictions match with the one obtained from GraphLab Create.\n",
    "\n",
    "### Probability predictions\n",
    "\n",
    "Recall from the lectures that we can also calculate the probability predictions from the scores using:\n",
    "$$\n",
    "P(y_i = +1 | \\mathbf{x}_i,\\mathbf{w}) = \\frac{1}{1 + \\exp(-\\mathbf{w}^T h(\\mathbf{x}_i))}.\n",
    "$$\n",
    "\n",
    "Using the variable **scores** calculated previously, write code to calculate the probability that a sentiment is positive using the above formula. For each row, the probabilities should be a number in the range **[0, 1]**."
   ]
  },
  {
   "cell_type": "code",
   "execution_count": 21,
   "metadata": {
    "collapsed": false
   },
   "outputs": [],
   "source": [
    "probPrediction = scores.apply(lambda score: 1/(1 + math.exp(-score)))"
   ]
  },
  {
   "cell_type": "code",
   "execution_count": 22,
   "metadata": {
    "collapsed": false
   },
   "outputs": [
    {
     "data": {
      "text/plain": [
       "dtype: float\n",
       "Rows: 3\n",
       "[0.9988123848377221, 0.0032232681817970566, 4.2615579966481076e-07]"
      ]
     },
     "execution_count": 22,
     "metadata": {},
     "output_type": "execute_result"
    }
   ],
   "source": [
    "probPrediction"
   ]
  },
  {
   "cell_type": "markdown",
   "metadata": {},
   "source": [
    "**Checkpoint**: Make sure your probability predictions match the ones obtained from GraphLab Create."
   ]
  },
  {
   "cell_type": "code",
   "execution_count": 23,
   "metadata": {
    "collapsed": false
   },
   "outputs": [
    {
     "name": "stdout",
     "output_type": "stream",
     "text": [
      "Class predictions according to GraphLab Create:\n",
      "[0.998812384837722, 0.0032232681817970553, 4.2615579966481054e-07]\n"
     ]
    }
   ],
   "source": [
    "print \"Class predictions according to GraphLab Create:\" \n",
    "print sentiment_model.predict(sample_test_data, output_type='probability')"
   ]
  },
  {
   "cell_type": "markdown",
   "metadata": {},
   "source": [
    "** Quiz Question:** Of the three data points in **sample_test_data**, which one (first, second, or third) has the **lowest probability** of being classified as a positive review?"
   ]
  },
  {
   "cell_type": "markdown",
   "metadata": {},
   "source": [
    "# Find the most positive (and negative) review"
   ]
  },
  {
   "cell_type": "markdown",
   "metadata": {},
   "source": [
    "We now turn to examining the full test dataset, **test_data**, and use GraphLab Create to form predictions on all of the test data points for faster performance.\n",
    "\n",
    "Using the `sentiment_model`, find the 20 reviews in the entire **test_data** with the **highest probability** of being classified as a **positive review**. We refer to these as the \"most positive reviews.\"\n",
    "\n",
    "To calculate these top-20 reviews, use the following steps:\n",
    "1.  Make probability predictions on **test_data** using the `sentiment_model`. (**Hint:** When you call `.predict` to make predictions on the test data, use option `output_type='probability'` to output the probability rather than just the most likely class.)\n",
    "2.  Sort the data according to those predictions and pick the top 20. (**Hint:** You can use the `.topk` method on an SFrame to find the top k rows sorted according to the value of a specified column.)"
   ]
  },
  {
   "cell_type": "code",
   "execution_count": 24,
   "metadata": {
    "collapsed": false
   },
   "outputs": [],
   "source": [
    "probPredictions = sentiment_model.predict(test_data, output_type=\"probability\")\n",
    "test_data[\"probPredictions\"] = probPredictions"
   ]
  },
  {
   "cell_type": "code",
   "execution_count": 38,
   "metadata": {
    "collapsed": false
   },
   "outputs": [
    {
     "name": "stdout",
     "output_type": "stream",
     "text": [
      "+-------------------------------+-------------------------------+--------+\n",
      "|              name             |             review            | rating |\n",
      "+-------------------------------+-------------------------------+--------+\n",
      "|   Munchkin Mozart Magic Cube  | My wife and I have been li... |  4.0   |\n",
      "|  BABYBJORN Potty Chair - Red  | Our family is just startin... |  5.0   |\n",
      "| Safety 1st Tot-Lok Four Lo... | I have a wooden desk that ... |  5.0   |\n",
      "| Summer Infant Complete Nur... | This Nursery and Bath Care... |  4.0   |\n",
      "| Leachco Snoogle Total Body... | I have had my Snoogle for ... |  5.0   |\n",
      "| HALO SleepSack Micro-Fleec... | I love the Sleepsack weara... |  5.0   |\n",
      "| Peg Perego Primo Viaggio C... | We have been using this se... |  5.0   |\n",
      "|   Capri Stroller - Red Tech   | First let me say that I wa... |  4.0   |\n",
      "| Wizard Convertible Car Sea... | My son was born big and re... |  5.0   |\n",
      "| Britax Marathon Convertibl... | My son began using the Mar... |  5.0   |\n",
      "| Britax Decathlon Convertib... | I researched a few differe... |  4.0   |\n",
      "|  Fisher-Price Deluxe Jumperoo | I had already decided that... |  5.0   |\n",
      "| Lilly Gold Sit 'n' Stroll ... | I just completed a two-mon... |  5.0   |\n",
      "| JP Lizzy Chocolate Ice Cla... | I got this bag as a presen... |  4.0   |\n",
      "| Cloud b Sound Machine Soot... | First off, I love plush sh... |  5.0   |\n",
      "| Traveling Toddler Car Seat... | I am sure this product wor... |  2.0   |\n",
      "| Ameda Purely Yours Breast ... | As with many new moms, I c... |  4.0   |\n",
      "| Moby Wrap Original 100% Co... | My Moby is an absolute nec... |  5.0   |\n",
      "| Moby Wrap Original 100% Co... | Let me just say that I DO ... |  4.0   |\n",
      "| bumGenius One-Size Cloth D... | I love, love, love these d... |  5.0   |\n",
      "+-------------------------------+-------------------------------+--------+\n",
      "+-------------------------------+-----------+-----------------+\n",
      "|           word_count          | sentiment | probPredictions |\n",
      "+-------------------------------+-----------+-----------------+\n",
      "| {'rating': 1, 'all': 2, 'b... |     1     |       1.0       |\n",
      "| {'managed': 1, 'just': 3, ... |     1     |       1.0       |\n",
      "| {'saying': 1, 'all': 1, 'o... |     1     |       1.0       |\n",
      "| {'son': 1, 'duty': 1, 'hel... |     1     |       1.0       |\n",
      "| {'saying': 1, 'help': 1, '... |     1     |       1.0       |\n",
      "| {'all': 1, 'just': 2, 'foo... |     1     |       1.0       |\n",
      "| {'all': 1, 'just': 2, 'mov... |     1     |       1.0       |\n",
      "| {'son': 3, 'infant': 1, 'a... |     1     |       1.0       |\n",
      "| {'son': 4, 'infant': 1, 'd... |     1     |       1.0       |\n",
      "| {'son': 3, 'infant': 1, 'o... |     1     |       1.0       |\n",
      "| {'all': 1, 'toted': 1, 'un... |     1     |       1.0       |\n",
      "| {'all': 1, 'just': 1, 'adj... |     1     |       1.0       |\n",
      "| {'son': 2, 'infant': 1, 'j... |     1     |       1.0       |\n",
      "| {'lighter': 1, 'just': 4, ... |     1     |       1.0       |\n",
      "| {'cute': 1, 'all': 2, 'jus... |     1     |       1.0       |\n",
      "| {'all': 1, 'just': 1, 'pho... |     -1    |       1.0       |\n",
      "| {'lansinoh': 1, 'since': 4... |     1     |       1.0       |\n",
      "| {'summer': 1, 'all': 4, 't... |     1     |       1.0       |\n",
      "| {'son': 2, 'infant': 1, 'j... |     1     |       1.0       |\n",
      "| {'summer': 1, 'remember': ... |     1     |       1.0       |\n",
      "+-------------------------------+-----------+-----------------+\n",
      "[20 rows x 6 columns]\n",
      "\n"
     ]
    }
   ],
   "source": [
    "test_data.topk(\"probPredictions\", 20).print_rows(20)"
   ]
  },
  {
   "cell_type": "code",
   "execution_count": 41,
   "metadata": {
    "collapsed": true
   },
   "outputs": [],
   "source": [
    "predictions = sentiment_model.predict(test_data)\n",
    "isClassifiedCorrectly = (predictions == test_data[\"sentiment\"])"
   ]
  },
  {
   "cell_type": "code",
   "execution_count": 50,
   "metadata": {
    "collapsed": false
   },
   "outputs": [
    {
     "data": {
      "text/plain": [
       "0.9145368370530358"
      ]
     },
     "execution_count": 50,
     "metadata": {},
     "output_type": "execute_result"
    }
   ],
   "source": [
    "isClassifiedCorrectly.sum()/len(isClassifiedCorrectly)"
   ]
  },
  {
   "cell_type": "markdown",
   "metadata": {},
   "source": [
    "**Quiz Question**: Which of the following products are represented in the 20 most positive reviews? [multiple choice]\n",
    "\n",
    "\n",
    "Now, let us repeat this excercise to find the \"most negative reviews.\" Use the prediction probabilities to find the  20 reviews in the **test_data** with the **lowest probability** of being classified as a **positive review**. Repeat the same steps above but make sure you **sort in the opposite order**."
   ]
  },
  {
   "cell_type": "code",
   "execution_count": 77,
   "metadata": {
    "collapsed": false,
    "scrolled": true
   },
   "outputs": [
    {
     "name": "stdout",
     "output_type": "stream",
     "text": [
      "+-------------------------------+-----+\n",
      "|              name             | ... |\n",
      "+-------------------------------+-----+\n",
      "| Jolly Jumper Arctic Sneak ... | ... |\n",
      "| Levana Safe N'See Digital ... | ... |\n",
      "| Snuza Portable Baby Moveme... | ... |\n",
      "| Fisher-Price Ocean Wonders... | ... |\n",
      "| VTech Communications Safe ... | ... |\n",
      "| Safety 1st High-Def Digita... | ... |\n",
      "| Chicco Cortina KeyFit 30 T... | ... |\n",
      "| Prince Lionheart Warmies W... | ... |\n",
      "| Valco Baby Tri-mode Twin S... | ... |\n",
      "| Adiri BPA Free Natural Nur... | ... |\n",
      "| Munchkin Nursery Projector... | ... |\n",
      "| The First Years True Choic... | ... |\n",
      "| Nuby Natural Touch Silicon... | ... |\n",
      "| Peg-Perego Tatamia High Ch... | ... |\n",
      "|    Fisher-Price Royal Potty   | ... |\n",
      "| Safety 1st Exchangeable Ti... | ... |\n",
      "| Safety 1st Lift Lock and S... | ... |\n",
      "| Evenflo Take Me Too Premie... | ... |\n",
      "| Cloth Diaper Sprayer--styl... | ... |\n",
      "| The First Years 3 Pack Bre... | ... |\n",
      "+-------------------------------+-----+\n",
      "[20 rows x 7 columns]\n",
      "\n"
     ]
    }
   ],
   "source": [
    "test_data.topk(\"probPredictions\", 20, reverse=True).print_rows(20, 1)"
   ]
  },
  {
   "cell_type": "markdown",
   "metadata": {
    "collapsed": true
   },
   "source": [
    "**Quiz Question**: Which of the following products are represented in the 20 most negative reviews?  [multiple choice]"
   ]
  },
  {
   "cell_type": "markdown",
   "metadata": {},
   "source": [
    "## Compute accuracy of the classifier\n",
    "\n",
    "We will now evaluate the accuracy of the trained classifer. Recall that the accuracy is given by\n",
    "\n",
    "\n",
    "$$\n",
    "\\mbox{accuracy} = \\frac{\\mbox{# correctly classified examples}}{\\mbox{# total examples}}\n",
    "$$\n",
    "\n",
    "This can be computed as follows:\n",
    "\n",
    "* **Step 1:** Use the trained model to compute class predictions (**Hint:** Use the `predict` method)\n",
    "* **Step 2:** Count the number of data points when the predicted class labels match the ground truth labels (called `true_labels` below).\n",
    "* **Step 3:** Divide the total number of correct predictions by the total number of data points in the dataset.\n",
    "\n",
    "Complete the function below to compute the classification accuracy:"
   ]
  },
  {
   "cell_type": "code",
   "execution_count": 51,
   "metadata": {
    "collapsed": true,
    "scrolled": true
   },
   "outputs": [],
   "source": [
    "def get_classification_accuracy(model, data, true_labels):\n",
    "    # First get the predictions\n",
    "    predictions = model.predict(data)\n",
    "    \n",
    "    # Compute the number of correctly classified examples\n",
    "    isClassifiedCorrectly = (predictions == true_labels)\n",
    "    num_correct = isClassifiedCorrectly.sum()\n",
    "    # Then compute accuracy by dividing num_correct by total number of examples\n",
    "    accuracy = num_correct/len(true_labels)\n",
    "    \n",
    "    return accuracy"
   ]
  },
  {
   "cell_type": "markdown",
   "metadata": {},
   "source": [
    "Now, let's compute the classification accuracy of the **sentiment_model** on the **test_data**."
   ]
  },
  {
   "cell_type": "code",
   "execution_count": 52,
   "metadata": {
    "collapsed": false
   },
   "outputs": [
    {
     "data": {
      "text/plain": [
       "0.9145368370530358"
      ]
     },
     "execution_count": 52,
     "metadata": {},
     "output_type": "execute_result"
    }
   ],
   "source": [
    "get_classification_accuracy(sentiment_model, test_data, test_data['sentiment'])"
   ]
  },
  {
   "cell_type": "markdown",
   "metadata": {},
   "source": [
    "**Quiz Question**: What is the accuracy of the **sentiment_model** on the **test_data**? Round your answer to 2 decimal places (e.g. 0.76).\n",
    "\n",
    "**Quiz Question**: Does a higher accuracy value on the **training_data** always imply that the classifier is better?"
   ]
  },
  {
   "cell_type": "markdown",
   "metadata": {},
   "source": [
    "## Learn another classifier with fewer words\n",
    "\n",
    "There were a lot of words in the model we trained above. We will now train a simpler logistic regression model using only a subet of words that occur in the reviews. For this assignment, we selected a 20 words to work with. These are:"
   ]
  },
  {
   "cell_type": "code",
   "execution_count": 53,
   "metadata": {
    "collapsed": true
   },
   "outputs": [],
   "source": [
    "significant_words = ['love', 'great', 'easy', 'old', 'little', 'perfect', 'loves', \n",
    "      'well', 'able', 'car', 'broke', 'less', 'even', 'waste', 'disappointed', \n",
    "      'work', 'product', 'money', 'would', 'return']"
   ]
  },
  {
   "cell_type": "code",
   "execution_count": 54,
   "metadata": {
    "collapsed": false
   },
   "outputs": [
    {
     "data": {
      "text/plain": [
       "20"
      ]
     },
     "execution_count": 54,
     "metadata": {},
     "output_type": "execute_result"
    }
   ],
   "source": [
    "len(significant_words)"
   ]
  },
  {
   "cell_type": "markdown",
   "metadata": {},
   "source": [
    "For each review, we will use the **word_count** column and trim out all words that are **not** in the **significant_words** list above. We will use the [SArray dictionary trim by keys functionality]( https://dato.com/products/create/docs/generated/graphlab.SArray.dict_trim_by_keys.html). Note that we are performing this on both the training and test set."
   ]
  },
  {
   "cell_type": "code",
   "execution_count": 55,
   "metadata": {
    "collapsed": false
   },
   "outputs": [],
   "source": [
    "train_data['word_count_subset'] = train_data['word_count'].dict_trim_by_keys(significant_words, exclude=False)\n",
    "test_data['word_count_subset'] = test_data['word_count'].dict_trim_by_keys(significant_words, exclude=False)"
   ]
  },
  {
   "cell_type": "markdown",
   "metadata": {},
   "source": [
    "Let's see what the first example of the dataset looks like:"
   ]
  },
  {
   "cell_type": "code",
   "execution_count": 56,
   "metadata": {
    "collapsed": false
   },
   "outputs": [
    {
     "data": {
      "text/plain": [
       "'it came early and was not disappointed. i love planet wise bags and now my wipe holder. it keps my osocozy wipes moist and does not leak. highly recommend it.'"
      ]
     },
     "execution_count": 56,
     "metadata": {},
     "output_type": "execute_result"
    }
   ],
   "source": [
    "train_data[0]['review']"
   ]
  },
  {
   "cell_type": "markdown",
   "metadata": {},
   "source": [
    "The **word_count** column had been working with before looks like the following:"
   ]
  },
  {
   "cell_type": "code",
   "execution_count": 58,
   "metadata": {
    "collapsed": false
   },
   "outputs": [
    {
     "name": "stdout",
     "output_type": "stream",
     "text": [
      "{'and': 3, 'love': 1, 'it': 3, 'highly': 1, 'osocozy': 1, 'bags': 1, 'holder': 1, 'leak': 1, 'moist': 1, 'does': 1, 'recommend': 1, 'was': 1, 'wipes': 1, 'early': 1, 'not': 2, 'now': 1, 'disappointed': 1, 'wipe': 1, 'keps': 1, 'wise': 1, 'i': 1, 'planet': 1, 'my': 2, 'came': 1}\n"
     ]
    }
   ],
   "source": [
    "print train_data[0]['word_count']"
   ]
  },
  {
   "cell_type": "markdown",
   "metadata": {},
   "source": [
    "Since we are only working with a subet of these words, the column **word_count_subset** is a subset of the above dictionary. In this example, only 2 `significant words` are present in this review."
   ]
  },
  {
   "cell_type": "code",
   "execution_count": 59,
   "metadata": {
    "collapsed": false
   },
   "outputs": [
    {
     "name": "stdout",
     "output_type": "stream",
     "text": [
      "{'love': 1, 'disappointed': 1}\n"
     ]
    }
   ],
   "source": [
    "print train_data[0]['word_count_subset']"
   ]
  },
  {
   "cell_type": "markdown",
   "metadata": {},
   "source": [
    "## Train a logistic regression model on a subset of data"
   ]
  },
  {
   "cell_type": "markdown",
   "metadata": {},
   "source": [
    "We will now build a classifier with **word_count_subset** as the feature and **sentiment** as the target. "
   ]
  },
  {
   "cell_type": "code",
   "execution_count": 60,
   "metadata": {
    "collapsed": false
   },
   "outputs": [
    {
     "data": {
      "text/html": [
       "<pre>Logistic regression:</pre>"
      ],
      "text/plain": [
       "Logistic regression:"
      ]
     },
     "metadata": {},
     "output_type": "display_data"
    },
    {
     "data": {
      "text/html": [
       "<pre>--------------------------------------------------------</pre>"
      ],
      "text/plain": [
       "--------------------------------------------------------"
      ]
     },
     "metadata": {},
     "output_type": "display_data"
    },
    {
     "data": {
      "text/html": [
       "<pre>Number of examples          : 133416</pre>"
      ],
      "text/plain": [
       "Number of examples          : 133416"
      ]
     },
     "metadata": {},
     "output_type": "display_data"
    },
    {
     "data": {
      "text/html": [
       "<pre>Number of classes           : 2</pre>"
      ],
      "text/plain": [
       "Number of classes           : 2"
      ]
     },
     "metadata": {},
     "output_type": "display_data"
    },
    {
     "data": {
      "text/html": [
       "<pre>Number of feature columns   : 1</pre>"
      ],
      "text/plain": [
       "Number of feature columns   : 1"
      ]
     },
     "metadata": {},
     "output_type": "display_data"
    },
    {
     "data": {
      "text/html": [
       "<pre>Number of unpacked features : 20</pre>"
      ],
      "text/plain": [
       "Number of unpacked features : 20"
      ]
     },
     "metadata": {},
     "output_type": "display_data"
    },
    {
     "data": {
      "text/html": [
       "<pre>Number of coefficients    : 21</pre>"
      ],
      "text/plain": [
       "Number of coefficients    : 21"
      ]
     },
     "metadata": {},
     "output_type": "display_data"
    },
    {
     "data": {
      "text/html": [
       "<pre>Starting Newton Method</pre>"
      ],
      "text/plain": [
       "Starting Newton Method"
      ]
     },
     "metadata": {},
     "output_type": "display_data"
    },
    {
     "data": {
      "text/html": [
       "<pre>--------------------------------------------------------</pre>"
      ],
      "text/plain": [
       "--------------------------------------------------------"
      ]
     },
     "metadata": {},
     "output_type": "display_data"
    },
    {
     "data": {
      "text/html": [
       "<pre>+-----------+----------+--------------+-------------------+</pre>"
      ],
      "text/plain": [
       "+-----------+----------+--------------+-------------------+"
      ]
     },
     "metadata": {},
     "output_type": "display_data"
    },
    {
     "data": {
      "text/html": [
       "<pre>| Iteration | Passes   | Elapsed Time | Training-accuracy |</pre>"
      ],
      "text/plain": [
       "| Iteration | Passes   | Elapsed Time | Training-accuracy |"
      ]
     },
     "metadata": {},
     "output_type": "display_data"
    },
    {
     "data": {
      "text/html": [
       "<pre>+-----------+----------+--------------+-------------------+</pre>"
      ],
      "text/plain": [
       "+-----------+----------+--------------+-------------------+"
      ]
     },
     "metadata": {},
     "output_type": "display_data"
    },
    {
     "data": {
      "text/html": [
       "<pre>| 1         | 2        | 0.092748     | 0.862917          |</pre>"
      ],
      "text/plain": [
       "| 1         | 2        | 0.092748     | 0.862917          |"
      ]
     },
     "metadata": {},
     "output_type": "display_data"
    },
    {
     "data": {
      "text/html": [
       "<pre>| 2         | 3        | 0.147044     | 0.865713          |</pre>"
      ],
      "text/plain": [
       "| 2         | 3        | 0.147044     | 0.865713          |"
      ]
     },
     "metadata": {},
     "output_type": "display_data"
    },
    {
     "data": {
      "text/html": [
       "<pre>| 3         | 4        | 0.197987     | 0.866478          |</pre>"
      ],
      "text/plain": [
       "| 3         | 4        | 0.197987     | 0.866478          |"
      ]
     },
     "metadata": {},
     "output_type": "display_data"
    },
    {
     "data": {
      "text/html": [
       "<pre>| 4         | 5        | 0.247262     | 0.866748          |</pre>"
      ],
      "text/plain": [
       "| 4         | 5        | 0.247262     | 0.866748          |"
      ]
     },
     "metadata": {},
     "output_type": "display_data"
    },
    {
     "data": {
      "text/html": [
       "<pre>| 5         | 6        | 0.293910     | 0.866815          |</pre>"
      ],
      "text/plain": [
       "| 5         | 6        | 0.293910     | 0.866815          |"
      ]
     },
     "metadata": {},
     "output_type": "display_data"
    },
    {
     "data": {
      "text/html": [
       "<pre>| 6         | 7        | 0.340325     | 0.866815          |</pre>"
      ],
      "text/plain": [
       "| 6         | 7        | 0.340325     | 0.866815          |"
      ]
     },
     "metadata": {},
     "output_type": "display_data"
    },
    {
     "data": {
      "text/html": [
       "<pre>+-----------+----------+--------------+-------------------+</pre>"
      ],
      "text/plain": [
       "+-----------+----------+--------------+-------------------+"
      ]
     },
     "metadata": {},
     "output_type": "display_data"
    },
    {
     "data": {
      "text/html": [
       "<pre>SUCCESS: Optimal solution found.</pre>"
      ],
      "text/plain": [
       "SUCCESS: Optimal solution found."
      ]
     },
     "metadata": {},
     "output_type": "display_data"
    },
    {
     "data": {
      "text/html": [
       "<pre></pre>"
      ],
      "text/plain": []
     },
     "metadata": {},
     "output_type": "display_data"
    },
    {
     "data": {
      "text/plain": [
       "Class                         : LogisticClassifier\n",
       "\n",
       "Schema\n",
       "------\n",
       "Number of coefficients        : 21\n",
       "Number of examples            : 133416\n",
       "Number of classes             : 2\n",
       "Number of feature columns     : 1\n",
       "Number of unpacked features   : 20\n",
       "\n",
       "Hyperparameters\n",
       "---------------\n",
       "L1 penalty                    : 0.0\n",
       "L2 penalty                    : 0.01\n",
       "\n",
       "Training Summary\n",
       "----------------\n",
       "Solver                        : auto\n",
       "Solver iterations             : 6\n",
       "Solver status                 : SUCCESS: Optimal solution found.\n",
       "Training time (sec)           : 0.3494\n",
       "\n",
       "Settings\n",
       "--------\n",
       "Log-likelihood                : 44323.7254\n",
       "\n",
       "Highest Positive Coefficients\n",
       "-----------------------------\n",
       "word_count_subset[loves]      : 1.6773\n",
       "word_count_subset[perfect]    : 1.5145\n",
       "word_count_subset[love]       : 1.3654\n",
       "(intercept)                   : 1.2995\n",
       "word_count_subset[easy]       : 1.1937\n",
       "\n",
       "Lowest Negative Coefficients\n",
       "----------------------------\n",
       "word_count_subset[disappointed]: -2.3551\n",
       "word_count_subset[return]     : -2.1173\n",
       "word_count_subset[waste]      : -2.0428\n",
       "word_count_subset[broke]      : -1.658\n",
       "word_count_subset[money]      : -0.8979"
      ]
     },
     "execution_count": 60,
     "metadata": {},
     "output_type": "execute_result"
    }
   ],
   "source": [
    "simple_model = graphlab.logistic_classifier.create(train_data,\n",
    "                                                   target = 'sentiment',\n",
    "                                                   features=['word_count_subset'],\n",
    "                                                   validation_set=None)\n",
    "simple_model"
   ]
  },
  {
   "cell_type": "markdown",
   "metadata": {},
   "source": [
    "We can compute the classification accuracy using the `get_classification_accuracy` function you implemented earlier."
   ]
  },
  {
   "cell_type": "code",
   "execution_count": 61,
   "metadata": {
    "collapsed": false
   },
   "outputs": [
    {
     "data": {
      "text/plain": [
       "0.8693004559635229"
      ]
     },
     "execution_count": 61,
     "metadata": {},
     "output_type": "execute_result"
    }
   ],
   "source": [
    "get_classification_accuracy(simple_model, test_data, test_data['sentiment'])"
   ]
  },
  {
   "cell_type": "markdown",
   "metadata": {},
   "source": [
    "Now, we will inspect the weights (coefficients) of the **simple_model**:"
   ]
  },
  {
   "cell_type": "code",
   "execution_count": 62,
   "metadata": {
    "collapsed": false
   },
   "outputs": [
    {
     "data": {
      "text/html": [
       "<div style=\"max-height:1000px;max-width:1500px;overflow:auto;\"><table frame=\"box\" rules=\"cols\">\n",
       "    <tr>\n",
       "        <th style=\"padding-left: 1em; padding-right: 1em; text-align: center\">name</th>\n",
       "        <th style=\"padding-left: 1em; padding-right: 1em; text-align: center\">index</th>\n",
       "        <th style=\"padding-left: 1em; padding-right: 1em; text-align: center\">class</th>\n",
       "        <th style=\"padding-left: 1em; padding-right: 1em; text-align: center\">value</th>\n",
       "        <th style=\"padding-left: 1em; padding-right: 1em; text-align: center\">stderr</th>\n",
       "    </tr>\n",
       "    <tr>\n",
       "        <td style=\"padding-left: 1em; padding-right: 1em; text-align: center; vertical-align: top\">(intercept)</td>\n",
       "        <td style=\"padding-left: 1em; padding-right: 1em; text-align: center; vertical-align: top\">None</td>\n",
       "        <td style=\"padding-left: 1em; padding-right: 1em; text-align: center; vertical-align: top\">1</td>\n",
       "        <td style=\"padding-left: 1em; padding-right: 1em; text-align: center; vertical-align: top\">1.2995449552</td>\n",
       "        <td style=\"padding-left: 1em; padding-right: 1em; text-align: center; vertical-align: top\">0.0120888541331</td>\n",
       "    </tr>\n",
       "    <tr>\n",
       "        <td style=\"padding-left: 1em; padding-right: 1em; text-align: center; vertical-align: top\">word_count_subset</td>\n",
       "        <td style=\"padding-left: 1em; padding-right: 1em; text-align: center; vertical-align: top\">disappointed</td>\n",
       "        <td style=\"padding-left: 1em; padding-right: 1em; text-align: center; vertical-align: top\">1</td>\n",
       "        <td style=\"padding-left: 1em; padding-right: 1em; text-align: center; vertical-align: top\">-2.35509250061</td>\n",
       "        <td style=\"padding-left: 1em; padding-right: 1em; text-align: center; vertical-align: top\">0.0504149888557</td>\n",
       "    </tr>\n",
       "    <tr>\n",
       "        <td style=\"padding-left: 1em; padding-right: 1em; text-align: center; vertical-align: top\">word_count_subset</td>\n",
       "        <td style=\"padding-left: 1em; padding-right: 1em; text-align: center; vertical-align: top\">love</td>\n",
       "        <td style=\"padding-left: 1em; padding-right: 1em; text-align: center; vertical-align: top\">1</td>\n",
       "        <td style=\"padding-left: 1em; padding-right: 1em; text-align: center; vertical-align: top\">1.36543549368</td>\n",
       "        <td style=\"padding-left: 1em; padding-right: 1em; text-align: center; vertical-align: top\">0.0303546295109</td>\n",
       "    </tr>\n",
       "    <tr>\n",
       "        <td style=\"padding-left: 1em; padding-right: 1em; text-align: center; vertical-align: top\">word_count_subset</td>\n",
       "        <td style=\"padding-left: 1em; padding-right: 1em; text-align: center; vertical-align: top\">little</td>\n",
       "        <td style=\"padding-left: 1em; padding-right: 1em; text-align: center; vertical-align: top\">1</td>\n",
       "        <td style=\"padding-left: 1em; padding-right: 1em; text-align: center; vertical-align: top\">0.520628636025</td>\n",
       "        <td style=\"padding-left: 1em; padding-right: 1em; text-align: center; vertical-align: top\">0.0214691475665</td>\n",
       "    </tr>\n",
       "    <tr>\n",
       "        <td style=\"padding-left: 1em; padding-right: 1em; text-align: center; vertical-align: top\">word_count_subset</td>\n",
       "        <td style=\"padding-left: 1em; padding-right: 1em; text-align: center; vertical-align: top\">loves</td>\n",
       "        <td style=\"padding-left: 1em; padding-right: 1em; text-align: center; vertical-align: top\">1</td>\n",
       "        <td style=\"padding-left: 1em; padding-right: 1em; text-align: center; vertical-align: top\">1.67727145556</td>\n",
       "        <td style=\"padding-left: 1em; padding-right: 1em; text-align: center; vertical-align: top\">0.0482328275384</td>\n",
       "    </tr>\n",
       "    <tr>\n",
       "        <td style=\"padding-left: 1em; padding-right: 1em; text-align: center; vertical-align: top\">word_count_subset</td>\n",
       "        <td style=\"padding-left: 1em; padding-right: 1em; text-align: center; vertical-align: top\">product</td>\n",
       "        <td style=\"padding-left: 1em; padding-right: 1em; text-align: center; vertical-align: top\">1</td>\n",
       "        <td style=\"padding-left: 1em; padding-right: 1em; text-align: center; vertical-align: top\">-0.320555492996</td>\n",
       "        <td style=\"padding-left: 1em; padding-right: 1em; text-align: center; vertical-align: top\">0.0154311321362</td>\n",
       "    </tr>\n",
       "    <tr>\n",
       "        <td style=\"padding-left: 1em; padding-right: 1em; text-align: center; vertical-align: top\">word_count_subset</td>\n",
       "        <td style=\"padding-left: 1em; padding-right: 1em; text-align: center; vertical-align: top\">well</td>\n",
       "        <td style=\"padding-left: 1em; padding-right: 1em; text-align: center; vertical-align: top\">1</td>\n",
       "        <td style=\"padding-left: 1em; padding-right: 1em; text-align: center; vertical-align: top\">0.504256746398</td>\n",
       "        <td style=\"padding-left: 1em; padding-right: 1em; text-align: center; vertical-align: top\">0.021381300631</td>\n",
       "    </tr>\n",
       "    <tr>\n",
       "        <td style=\"padding-left: 1em; padding-right: 1em; text-align: center; vertical-align: top\">word_count_subset</td>\n",
       "        <td style=\"padding-left: 1em; padding-right: 1em; text-align: center; vertical-align: top\">great</td>\n",
       "        <td style=\"padding-left: 1em; padding-right: 1em; text-align: center; vertical-align: top\">1</td>\n",
       "        <td style=\"padding-left: 1em; padding-right: 1em; text-align: center; vertical-align: top\">0.94469126948</td>\n",
       "        <td style=\"padding-left: 1em; padding-right: 1em; text-align: center; vertical-align: top\">0.0209509926591</td>\n",
       "    </tr>\n",
       "    <tr>\n",
       "        <td style=\"padding-left: 1em; padding-right: 1em; text-align: center; vertical-align: top\">word_count_subset</td>\n",
       "        <td style=\"padding-left: 1em; padding-right: 1em; text-align: center; vertical-align: top\">easy</td>\n",
       "        <td style=\"padding-left: 1em; padding-right: 1em; text-align: center; vertical-align: top\">1</td>\n",
       "        <td style=\"padding-left: 1em; padding-right: 1em; text-align: center; vertical-align: top\">1.19366189833</td>\n",
       "        <td style=\"padding-left: 1em; padding-right: 1em; text-align: center; vertical-align: top\">0.029288869202</td>\n",
       "    </tr>\n",
       "    <tr>\n",
       "        <td style=\"padding-left: 1em; padding-right: 1em; text-align: center; vertical-align: top\">word_count_subset</td>\n",
       "        <td style=\"padding-left: 1em; padding-right: 1em; text-align: center; vertical-align: top\">work</td>\n",
       "        <td style=\"padding-left: 1em; padding-right: 1em; text-align: center; vertical-align: top\">1</td>\n",
       "        <td style=\"padding-left: 1em; padding-right: 1em; text-align: center; vertical-align: top\">-0.621700012425</td>\n",
       "        <td style=\"padding-left: 1em; padding-right: 1em; text-align: center; vertical-align: top\">0.0230330597946</td>\n",
       "    </tr>\n",
       "</table>\n",
       "[21 rows x 5 columns]<br/>Note: Only the head of the SFrame is printed.<br/>You can use print_rows(num_rows=m, num_columns=n) to print more rows and columns.\n",
       "</div>"
      ],
      "text/plain": [
       "Columns:\n",
       "\tname\tstr\n",
       "\tindex\tstr\n",
       "\tclass\tint\n",
       "\tvalue\tfloat\n",
       "\tstderr\tfloat\n",
       "\n",
       "Rows: 21\n",
       "\n",
       "Data:\n",
       "+-------------------+--------------+-------+-----------------+-----------------+\n",
       "|        name       |    index     | class |      value      |      stderr     |\n",
       "+-------------------+--------------+-------+-----------------+-----------------+\n",
       "|    (intercept)    |     None     |   1   |   1.2995449552  | 0.0120888541331 |\n",
       "| word_count_subset | disappointed |   1   |  -2.35509250061 | 0.0504149888557 |\n",
       "| word_count_subset |     love     |   1   |  1.36543549368  | 0.0303546295109 |\n",
       "| word_count_subset |    little    |   1   |  0.520628636025 | 0.0214691475665 |\n",
       "| word_count_subset |    loves     |   1   |  1.67727145556  | 0.0482328275384 |\n",
       "| word_count_subset |   product    |   1   | -0.320555492996 | 0.0154311321362 |\n",
       "| word_count_subset |     well     |   1   |  0.504256746398 |  0.021381300631 |\n",
       "| word_count_subset |    great     |   1   |  0.94469126948  | 0.0209509926591 |\n",
       "| word_count_subset |     easy     |   1   |  1.19366189833  |  0.029288869202 |\n",
       "| word_count_subset |     work     |   1   | -0.621700012425 | 0.0230330597946 |\n",
       "+-------------------+--------------+-------+-----------------+-----------------+\n",
       "[21 rows x 5 columns]\n",
       "Note: Only the head of the SFrame is printed.\n",
       "You can use print_rows(num_rows=m, num_columns=n) to print more rows and columns."
      ]
     },
     "execution_count": 62,
     "metadata": {},
     "output_type": "execute_result"
    }
   ],
   "source": [
    "simple_model.coefficients"
   ]
  },
  {
   "cell_type": "markdown",
   "metadata": {},
   "source": [
    "Let's sort the coefficients (in descending order) by the **value** to obtain the coefficients with the most positive effect on the sentiment."
   ]
  },
  {
   "cell_type": "code",
   "execution_count": 63,
   "metadata": {
    "collapsed": false
   },
   "outputs": [
    {
     "name": "stdout",
     "output_type": "stream",
     "text": [
      "+-------------------+--------------+-------+-----------------+-----------------+\n",
      "|        name       |    index     | class |      value      |      stderr     |\n",
      "+-------------------+--------------+-------+-----------------+-----------------+\n",
      "| word_count_subset |    loves     |   1   |  1.67727145556  | 0.0482328275384 |\n",
      "| word_count_subset |   perfect    |   1   |  1.51448626703  |  0.049861952294 |\n",
      "| word_count_subset |     love     |   1   |  1.36543549368  | 0.0303546295109 |\n",
      "|    (intercept)    |     None     |   1   |   1.2995449552  | 0.0120888541331 |\n",
      "| word_count_subset |     easy     |   1   |  1.19366189833  |  0.029288869202 |\n",
      "| word_count_subset |    great     |   1   |  0.94469126948  | 0.0209509926591 |\n",
      "| word_count_subset |    little    |   1   |  0.520628636025 | 0.0214691475665 |\n",
      "| word_count_subset |     well     |   1   |  0.504256746398 |  0.021381300631 |\n",
      "| word_count_subset |     able     |   1   |  0.191438302295 | 0.0337581955697 |\n",
      "| word_count_subset |     old      |   1   | 0.0853961886678 | 0.0200863423025 |\n",
      "| word_count_subset |     car      |   1   |  0.058834990068 | 0.0168291532091 |\n",
      "| word_count_subset |     less     |   1   | -0.209709815216 |  0.040505735954 |\n",
      "| word_count_subset |   product    |   1   | -0.320555492996 | 0.0154311321362 |\n",
      "| word_count_subset |    would     |   1   | -0.362308947711 | 0.0127544751985 |\n",
      "| word_count_subset |     even     |   1   |  -0.51173855127 | 0.0199612760261 |\n",
      "| word_count_subset |     work     |   1   | -0.621700012425 | 0.0230330597946 |\n",
      "| word_count_subset |    money     |   1   | -0.897884155776 | 0.0339936732836 |\n",
      "| word_count_subset |    broke     |   1   |  -1.65796447838 | 0.0580878907166 |\n",
      "| word_count_subset |    waste     |   1   |   -2.042773611  | 0.0644702932444 |\n",
      "| word_count_subset |    return    |   1   |  -2.11729659718 | 0.0578650807241 |\n",
      "| word_count_subset | disappointed |   1   |  -2.35509250061 | 0.0504149888557 |\n",
      "+-------------------+--------------+-------+-----------------+-----------------+\n",
      "[21 rows x 5 columns]\n",
      "\n"
     ]
    }
   ],
   "source": [
    "simple_model.coefficients.sort('value', ascending=False).print_rows(num_rows=21)"
   ]
  },
  {
   "cell_type": "markdown",
   "metadata": {},
   "source": [
    "**Quiz Question**: Consider the coefficients of **simple_model**. There should be 21 of them, an intercept term + one for each word in **significant_words**. How many of the 20 coefficients (corresponding to the 20 **significant_words** and *excluding the intercept term*) are positive for the `simple_model`?"
   ]
  },
  {
   "cell_type": "code",
   "execution_count": null,
   "metadata": {
    "collapsed": false
   },
   "outputs": [],
   "source": [
    "10"
   ]
  },
  {
   "cell_type": "markdown",
   "metadata": {},
   "source": [
    "**Quiz Question**: Are the positive words in the **simple_model** (let us call them `positive_significant_words`) also positive words in the **sentiment_model**?"
   ]
  },
  {
   "cell_type": "code",
   "execution_count": 68,
   "metadata": {
    "collapsed": false
   },
   "outputs": [
    {
     "ename": "IndexError",
     "evalue": "Invalid type to use for indexing",
     "output_type": "error",
     "traceback": [
      "\u001b[0;31m---------------------------------------------------------------------------\u001b[0m",
      "\u001b[0;31mIndexError\u001b[0m                                Traceback (most recent call last)",
      "\u001b[0;32m<ipython-input-68-4b50a3f9e988>\u001b[0m in \u001b[0;36m<module>\u001b[0;34m()\u001b[0m\n\u001b[0;32m----> 1\u001b[0;31m \u001b[0msentiment_model\u001b[0m\u001b[0;34m.\u001b[0m\u001b[0mcoefficients\u001b[0m\u001b[0;34m[\u001b[0m\u001b[0;34m'index'\u001b[0m\u001b[0;34m]\u001b[0m\u001b[0;34m[\u001b[0m\u001b[0;34m'love'\u001b[0m\u001b[0;34m]\u001b[0m\u001b[0;34m\u001b[0m\u001b[0m\n\u001b[0m",
      "\u001b[0;32m/Library/Python/2.7/site-packages/graphlab/data_structures/sarray.pyc\u001b[0m in \u001b[0;36m__getitem__\u001b[0;34m(self, other)\u001b[0m\n\u001b[1;32m   1078\u001b[0m             \u001b[0;32mreturn\u001b[0m \u001b[0mSArray\u001b[0m\u001b[0;34m(\u001b[0m\u001b[0m_proxy\u001b[0m \u001b[0;34m=\u001b[0m \u001b[0mself\u001b[0m\u001b[0;34m.\u001b[0m\u001b[0m__proxy__\u001b[0m\u001b[0;34m.\u001b[0m\u001b[0mcopy_range\u001b[0m\u001b[0;34m(\u001b[0m\u001b[0mstart\u001b[0m\u001b[0;34m,\u001b[0m \u001b[0mstep\u001b[0m\u001b[0;34m,\u001b[0m \u001b[0mstop\u001b[0m\u001b[0;34m)\u001b[0m\u001b[0;34m)\u001b[0m\u001b[0;34m\u001b[0m\u001b[0m\n\u001b[1;32m   1079\u001b[0m         \u001b[0;32melse\u001b[0m\u001b[0;34m:\u001b[0m\u001b[0;34m\u001b[0m\u001b[0m\n\u001b[0;32m-> 1080\u001b[0;31m             \u001b[0;32mraise\u001b[0m \u001b[0mIndexError\u001b[0m\u001b[0;34m(\u001b[0m\u001b[0;34m\"Invalid type to use for indexing\"\u001b[0m\u001b[0;34m)\u001b[0m\u001b[0;34m\u001b[0m\u001b[0m\n\u001b[0m\u001b[1;32m   1081\u001b[0m \u001b[0;34m\u001b[0m\u001b[0m\n\u001b[1;32m   1082\u001b[0m     \u001b[0;32mdef\u001b[0m \u001b[0m__materialize__\u001b[0m\u001b[0;34m(\u001b[0m\u001b[0mself\u001b[0m\u001b[0;34m)\u001b[0m\u001b[0;34m:\u001b[0m\u001b[0;34m\u001b[0m\u001b[0m\n",
      "\u001b[0;31mIndexError\u001b[0m: Invalid type to use for indexing"
     ]
    }
   ],
   "source": [
    "sentiment_model.coefficients['index']==loves"
   ]
  },
  {
   "cell_type": "markdown",
   "metadata": {},
   "source": [
    "# Comparing models"
   ]
  },
  {
   "cell_type": "markdown",
   "metadata": {},
   "source": [
    "We will now compare the accuracy of the **sentiment_model** and the **simple_model** using the `get_classification_accuracy` method you implemented above.\n",
    "\n",
    "First, compute the classification accuracy of the **sentiment_model** on the **train_data**:"
   ]
  },
  {
   "cell_type": "code",
   "execution_count": 69,
   "metadata": {
    "collapsed": false
   },
   "outputs": [
    {
     "data": {
      "text/plain": [
       "0.979440247046831"
      ]
     },
     "execution_count": 69,
     "metadata": {},
     "output_type": "execute_result"
    }
   ],
   "source": [
    "get_classification_accuracy(sentiment_model, train_data, train_data['sentiment'])"
   ]
  },
  {
   "cell_type": "markdown",
   "metadata": {},
   "source": [
    "Now, compute the classification accuracy of the **simple_model** on the **train_data**:"
   ]
  },
  {
   "cell_type": "code",
   "execution_count": 70,
   "metadata": {
    "collapsed": false
   },
   "outputs": [
    {
     "data": {
      "text/plain": [
       "0.8668150746537147"
      ]
     },
     "execution_count": 70,
     "metadata": {},
     "output_type": "execute_result"
    }
   ],
   "source": [
    "get_classification_accuracy(simple_model, train_data, train_data['sentiment'])"
   ]
  },
  {
   "cell_type": "markdown",
   "metadata": {},
   "source": [
    "**Quiz Question**: Which model (**sentiment_model** or **simple_model**) has higher accuracy on the TRAINING set?"
   ]
  },
  {
   "cell_type": "markdown",
   "metadata": {},
   "source": [
    "Now, we will repeat this excercise on the **test_data**. Start by computing the classification accuracy of the **sentiment_model** on the **test_data**:"
   ]
  },
  {
   "cell_type": "code",
   "execution_count": 71,
   "metadata": {
    "collapsed": false
   },
   "outputs": [
    {
     "data": {
      "text/plain": [
       "0.9145368370530358"
      ]
     },
     "execution_count": 71,
     "metadata": {},
     "output_type": "execute_result"
    }
   ],
   "source": [
    "get_classification_accuracy(sentiment_model, test_data, test_data['sentiment'])"
   ]
  },
  {
   "cell_type": "markdown",
   "metadata": {},
   "source": [
    "Next, we will compute the classification accuracy of the **simple_model** on the **test_data**:"
   ]
  },
  {
   "cell_type": "code",
   "execution_count": 72,
   "metadata": {
    "collapsed": false
   },
   "outputs": [
    {
     "data": {
      "text/plain": [
       "0.8693004559635229"
      ]
     },
     "execution_count": 72,
     "metadata": {},
     "output_type": "execute_result"
    }
   ],
   "source": [
    "get_classification_accuracy(simple_model, test_data, test_data['sentiment'])"
   ]
  },
  {
   "cell_type": "markdown",
   "metadata": {},
   "source": [
    "**Quiz Question**: Which model (**sentiment_model** or **simple_model**) has higher accuracy on the TEST set?"
   ]
  },
  {
   "cell_type": "markdown",
   "metadata": {},
   "source": [
    "## Baseline: Majority class prediction\n",
    "\n",
    "It is quite common to use the **majority class classifier** as the a baseline (or reference) model for comparison with your classifier model. The majority classifier model predicts the majority class for all data points. At the very least, you should healthily beat the majority class classifier, otherwise, the model is (usually) pointless.\n",
    "\n",
    "What is the majority class in the **train_data**?"
   ]
  },
  {
   "cell_type": "code",
   "execution_count": 73,
   "metadata": {
    "collapsed": false
   },
   "outputs": [
    {
     "name": "stdout",
     "output_type": "stream",
     "text": [
      "112164\n",
      "21252\n"
     ]
    }
   ],
   "source": [
    "num_positive  = (train_data['sentiment'] == +1).sum()\n",
    "num_negative = (train_data['sentiment'] == -1).sum()\n",
    "print num_positive\n",
    "print num_negative"
   ]
  },
  {
   "cell_type": "markdown",
   "metadata": {},
   "source": [
    "Now compute the accuracy of the majority class classifier on **test_data**.\n",
    "\n",
    "**Quiz Question**: Enter the accuracy of the majority class classifier model on the **test_data**. Round your answer to two decimal places (e.g. 0.76)."
   ]
  },
  {
   "cell_type": "code",
   "execution_count": 75,
   "metadata": {
    "collapsed": false,
    "scrolled": true
   },
   "outputs": [
    {
     "name": "stdout",
     "output_type": "stream",
     "text": [
      "28095\n",
      "5241\n",
      "0.842782577394\n"
     ]
    }
   ],
   "source": [
    "num_positive  = (test_data['sentiment'] == +1).sum()\n",
    "num_negative = (test_data['sentiment'] == -1).sum()\n",
    "print num_positive\n",
    "print num_negative\n",
    "print num_positive/(num_positive + num_negative)"
   ]
  },
  {
   "cell_type": "markdown",
   "metadata": {},
   "source": [
    "**Quiz Question**: Is the **sentiment_model** definitely better than the majority class classifier (the baseline)?"
   ]
  }
 ],
 "metadata": {
  "kernelspec": {
   "display_name": "Python 2",
   "language": "python",
   "name": "python2"
  },
  "language_info": {
   "codemirror_mode": {
    "name": "ipython",
    "version": 2
   },
   "file_extension": ".py",
   "mimetype": "text/x-python",
   "name": "python",
   "nbconvert_exporter": "python",
   "pygments_lexer": "ipython2",
   "version": "2.7.6"
  }
 },
 "nbformat": 4,
 "nbformat_minor": 0
}
